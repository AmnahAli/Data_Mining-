{
 "cells": [
  {
   "cell_type": "markdown",
   "metadata": {},
   "source": [
    "\n",
    "<h3><font color='black'>Data Mining Project  </font></h3>\n",
    "Amnah Abdelrahman"
   ]
  },
  {
   "cell_type": "markdown",
   "metadata": {},
   "source": [
    "#                          <center style='color:blue'><u> BoardGameGeek Reviews</u></center>  "
   ]
  },
  {
   "cell_type": "markdown",
   "metadata": {},
   "source": [
    "### Table of Content: \n",
    "* [Introduction](#Introduction)\n",
    "* [Data Description](#Data_Description)\n",
    "* [Data Processing](#Data_Processing)\n",
    "* [Data Exploration](#Data_Exploration)\n",
    "* [Train Test Split](#train_test_split)\n",
    "\n",
    "* [Text preprocessing](#Text_preprocessing)\n",
    "    * [Count Vectorizer](#CountVectorizer) \n",
    "    * [TfidfVectorizer (Term Frequency times Inverse Document Frequency)](#TfidfVectorizer)\n",
    "        \n",
    "* [Model Selectoin](#Model_Selectoin)\n",
    "    * [Linear and Logistic Regression](#Linear_and_Logistic_Regression)\n",
    "    * [Linear Classifiers](#Linear_Classifiers)\n",
    "    * [Support Vector Machine](#Support_Vector_Machine)\n",
    "    * [Linear Support Vector Machine](#Linear_Support_Vector_Machine)\n",
    "    * [Naive Bayes Classifier](#Naive_Bayes_Classifier)\n",
    "    * [Decision Tree Classifier](#Decision_Tree_Classifier)\n",
    "    * [Ensemble Model](#Ensemble_Model)\n",
    "        * [Boosting Models](#Boosting_Models)\n",
    "        * [Random Forest Classifier](#Random_Forest_Classifier) \n",
    "    * [Convolutional Neural Network (Futuer work)](#Convolutional_Neural_Network) \n",
    "        \n",
    "* [hyperparameter Tuning ](#hyperparameter_Tuning)\n",
    "     * [Grid Search Cross Validation](#GridSearchCV)\n",
    "     * [Randomized Search Cross Validation](#RandomizedSearchCV)\n",
    "        \n",
    "* [Results](#Results)\n",
    "* [Challenges](#Challenges)\n",
    "* [References](#References)"
   ]
  },
  {
   "cell_type": "markdown",
   "metadata": {},
   "source": [
    "<h1 id=\"Introduction\" style='color:blue'>Introduction</h1>"
   ]
  },
  {
   "cell_type": "markdown",
   "metadata": {},
   "source": [
    "\n",
    "\n",
    "\n",
    "The goal of this project is to predict the rating of a board-game given a review, using text analysis tools and machine learning methods. BoardGameGeek is the world's largest board game site. It provides huge data of all board-games with much information on each game like the game difficulty, the number of players, the time required for the game, the designer, and some recommendations. it is also giving the number of reviews, user comments, games ranking, and much more. \n",
    "\n",
    "The general sequence to build a prediction/classification model starts by understanding the problem and describing the dataset by using visualization tools as an example. Then, selects the features and prepares the dataset to fit the proposed predictive models. After that, it remains to apply the model evaluation and select the most promising model. Finally, optimizes and measure the final model performance, before presenting the last result. This is going to be our methodology in this project.\n",
    "\n",
    "This work is mainly our work, we read many blogs and websites to understand and grasp the general way to solve the problem. In terms of contribution, we set various model parameters and trials during different stages in this work, and the credits and citations are given for the implementation we learned from others.\n",
    "\n",
    "So let's start mining \n",
    "\n"
   ]
  },
  {
   "cell_type": "markdown",
   "metadata": {},
   "source": [
    "### Load Libraries\n",
    "The first thing we need to do is loading the required libraries,"
   ]
  },
  {
   "cell_type": "code",
   "execution_count": 1,
   "metadata": {},
   "outputs": [
    {
     "name": "stderr",
     "output_type": "stream",
     "text": [
      "Using TensorFlow backend.\n"
     ]
    }
   ],
   "source": [
    "# basic libraries for dataframe, graphs \n",
    "import sys, sklearn\n",
    "import pandas as pd\n",
    "import numpy as np\n",
    "import seaborn as sns\n",
    "import matplotlib.pyplot as plt\n",
    "%matplotlib inline\n",
    "\n",
    "# for model selection\n",
    "from sklearn import linear_model\n",
    "from sklearn import svm\n",
    "from sklearn.ensemble import AdaBoostClassifier\n",
    "from sklearn.linear_model import SGDClassifier\n",
    "from sklearn.svm import LinearSVC\n",
    "from sklearn.naive_bayes import MultinomialNB\n",
    "from sklearn.linear_model import LogisticRegression\n",
    "from sklearn.tree import DecisionTreeClassifier\n",
    "from sklearn import decomposition, ensemble\n",
    "from sklearn import tree\n",
    "\n",
    "# Model optimization \n",
    "from sklearn.ensemble import RandomForestClassifier \n",
    "from sklearn.model_selection import learning_curve\n",
    "from sklearn.model_selection import GridSearchCV\n",
    "from sklearn.metrics import explained_variance_score\n",
    "from sklearn.model_selection import RandomizedSearchCV\n",
    "\n",
    "\n",
    "# for data preparation and model evaluation\n",
    "from sklearn.metrics import accuracy_score\n",
    "from sklearn.metrics import mean_squared_error \n",
    "from sklearn import linear_model, preprocessing\n",
    "from sklearn.metrics import classification_report\n",
    "from sklearn.metrics import confusion_matrix\n",
    "from sklearn import model_selection, preprocessing, metrics\n",
    "from sklearn.model_selection import cross_val_score , train_test_split\n",
    "\n",
    "\n",
    "# Text analysis and transformation\n",
    "import nltk\n",
    "import string\n",
    "from nltk.stem import PorterStemmer\n",
    "from nltk import word_tokenize\n",
    "from sklearn.feature_extraction.text import TfidfVectorizer, CountVectorizer, TfidfTransformer\n",
    "\n",
    "\n",
    "# ANN model \n",
    "from keras.preprocessing import text, sequence\n",
    "from keras import layers, models, optimizers\n",
    "#from keras.models import Sequential  low_memory=False"
   ]
  },
  {
   "cell_type": "markdown",
   "metadata": {},
   "source": [
    "\n",
    "<a id = \"Data_Description\"></a>"
   ]
  },
  {
   "cell_type": "markdown",
   "metadata": {},
   "source": [
    "<h1 id=\"Data_Description\" style='color:blue'>Data Description</h1>"
   ]
  },
  {
   "cell_type": "markdown",
   "metadata": {},
   "source": [
    "\n",
    "\n",
    " The source of the data is Kaggle https://www.kaggle.com/jvanelteren/boardgamegeek-reviews#2019-05-02.csv.\n",
    " The data spread over 3 CSV files:\n",
    " \n",
    "- <i>games_detailed_info.csv</i>  (with 56 columns and 17063) : \n",
    "This file has a many detials about all type of board games, exmaples: are  the game rank, number of plyers,    number of user rated, time requried for the game, desiner and some instructions.    \n",
    "*** \n",
    "-  <i>bgg-13m-reviews.csv</i> (with 6 columns and 13170073):\n",
    "provids the user names with there reviews and rating for each game.\n",
    "*** \n",
    "- <i>2019-05-02.csv</i> (9 columns and 17065) : \n",
    "This file contain more precisis information for each game the game name ,year, rank and number of users rated. \n",
    "\n"
   ]
  },
  {
   "cell_type": "markdown",
   "metadata": {},
   "source": [
    "### Load Dataset"
   ]
  },
  {
   "cell_type": "code",
   "execution_count": 2,
   "metadata": {},
   "outputs": [],
   "source": [
    "detailed_df = pd.read_csv('/Users/mamo/Downloads/games_detailed_info.csv',low_memory=False)  # for the interpretuer to deterimne datatype it take hight memorey\n",
    "reviews_df = pd.read_csv('/Users/mamo/Downloads/bgg-13m-reviews.csv')\n",
    "ranking_df = pd.read_csv('/Users/mamo/Downloads/2019-05-02.csv')"
   ]
  },
  {
   "cell_type": "code",
   "execution_count": 3,
   "metadata": {},
   "outputs": [
    {
     "data": {
      "text/html": [
       "<div>\n",
       "<style scoped>\n",
       "    .dataframe tbody tr th:only-of-type {\n",
       "        vertical-align: middle;\n",
       "    }\n",
       "\n",
       "    .dataframe tbody tr th {\n",
       "        vertical-align: top;\n",
       "    }\n",
       "\n",
       "    .dataframe thead th {\n",
       "        text-align: right;\n",
       "    }\n",
       "</style>\n",
       "<table border=\"1\" class=\"dataframe\">\n",
       "  <thead>\n",
       "    <tr style=\"text-align: right;\">\n",
       "      <th></th>\n",
       "      <th>Unnamed: 0</th>\n",
       "      <th>Abstract Game Rank</th>\n",
       "      <th>Accessory Rank</th>\n",
       "      <th>Amiga Rank</th>\n",
       "      <th>Arcade Rank</th>\n",
       "      <th>Atari ST Rank</th>\n",
       "      <th>Board Game Rank</th>\n",
       "      <th>Children's Game Rank</th>\n",
       "      <th>Commodore 64 Rank</th>\n",
       "      <th>Customizable Rank</th>\n",
       "      <th>...</th>\n",
       "      <th>suggested_language_dependence</th>\n",
       "      <th>suggested_num_players</th>\n",
       "      <th>suggested_playerage</th>\n",
       "      <th>thumbnail</th>\n",
       "      <th>trading</th>\n",
       "      <th>type</th>\n",
       "      <th>usersrated</th>\n",
       "      <th>wanting</th>\n",
       "      <th>wishing</th>\n",
       "      <th>yearpublished</th>\n",
       "    </tr>\n",
       "  </thead>\n",
       "  <tbody>\n",
       "    <tr>\n",
       "      <td>0</td>\n",
       "      <td>0</td>\n",
       "      <td>NaN</td>\n",
       "      <td>NaN</td>\n",
       "      <td>NaN</td>\n",
       "      <td>NaN</td>\n",
       "      <td>NaN</td>\n",
       "      <td>327</td>\n",
       "      <td>NaN</td>\n",
       "      <td>NaN</td>\n",
       "      <td>NaN</td>\n",
       "      <td>...</td>\n",
       "      <td>[OrderedDict([('@level', '36'), ('@value', 'No...</td>\n",
       "      <td>[OrderedDict([('@numplayers', '1'), ('result',...</td>\n",
       "      <td>[OrderedDict([('@value', '2'), ('@numvotes', '...</td>\n",
       "      <td>https://cf.geekdo-images.com/thumb/img/g8LvJsd...</td>\n",
       "      <td>1685</td>\n",
       "      <td>boardgame</td>\n",
       "      <td>85332</td>\n",
       "      <td>453</td>\n",
       "      <td>4729</td>\n",
       "      <td>1995</td>\n",
       "    </tr>\n",
       "    <tr>\n",
       "      <td>1</td>\n",
       "      <td>1</td>\n",
       "      <td>NaN</td>\n",
       "      <td>NaN</td>\n",
       "      <td>NaN</td>\n",
       "      <td>NaN</td>\n",
       "      <td>NaN</td>\n",
       "      <td>151</td>\n",
       "      <td>NaN</td>\n",
       "      <td>NaN</td>\n",
       "      <td>NaN</td>\n",
       "      <td>...</td>\n",
       "      <td>[OrderedDict([('@level', '1'), ('@value', 'No ...</td>\n",
       "      <td>[OrderedDict([('@numplayers', '1'), ('result',...</td>\n",
       "      <td>[OrderedDict([('@value', '2'), ('@numvotes', '...</td>\n",
       "      <td>https://cf.geekdo-images.com/thumb/img/kqE4YJS...</td>\n",
       "      <td>1477</td>\n",
       "      <td>boardgame</td>\n",
       "      <td>85052</td>\n",
       "      <td>498</td>\n",
       "      <td>5403</td>\n",
       "      <td>2000</td>\n",
       "    </tr>\n",
       "    <tr>\n",
       "      <td>2</td>\n",
       "      <td>2</td>\n",
       "      <td>NaN</td>\n",
       "      <td>NaN</td>\n",
       "      <td>NaN</td>\n",
       "      <td>NaN</td>\n",
       "      <td>NaN</td>\n",
       "      <td>74</td>\n",
       "      <td>NaN</td>\n",
       "      <td>NaN</td>\n",
       "      <td>NaN</td>\n",
       "      <td>...</td>\n",
       "      <td>[OrderedDict([('@level', '21'), ('@value', 'No...</td>\n",
       "      <td>[OrderedDict([('@numplayers', '1'), ('result',...</td>\n",
       "      <td>[OrderedDict([('@value', '2'), ('@numvotes', '...</td>\n",
       "      <td>https://cf.geekdo-images.com/thumb/img/HEKrtpT...</td>\n",
       "      <td>1977</td>\n",
       "      <td>boardgame</td>\n",
       "      <td>83486</td>\n",
       "      <td>614</td>\n",
       "      <td>7655</td>\n",
       "      <td>2008</td>\n",
       "    </tr>\n",
       "    <tr>\n",
       "      <td>3</td>\n",
       "      <td>3</td>\n",
       "      <td>NaN</td>\n",
       "      <td>NaN</td>\n",
       "      <td>NaN</td>\n",
       "      <td>NaN</td>\n",
       "      <td>NaN</td>\n",
       "      <td>45</td>\n",
       "      <td>NaN</td>\n",
       "      <td>NaN</td>\n",
       "      <td>NaN</td>\n",
       "      <td>...</td>\n",
       "      <td>[OrderedDict([('@level', '1'), ('@value', 'No ...</td>\n",
       "      <td>[OrderedDict([('@numplayers', '1'), ('result',...</td>\n",
       "      <td>[OrderedDict([('@value', '2'), ('@numvotes', '...</td>\n",
       "      <td>https://cf.geekdo-images.com/thumb/img/Grz-qM9...</td>\n",
       "      <td>1162</td>\n",
       "      <td>boardgame</td>\n",
       "      <td>69132</td>\n",
       "      <td>1029</td>\n",
       "      <td>9464</td>\n",
       "      <td>2010</td>\n",
       "    </tr>\n",
       "    <tr>\n",
       "      <td>4</td>\n",
       "      <td>4</td>\n",
       "      <td>NaN</td>\n",
       "      <td>NaN</td>\n",
       "      <td>NaN</td>\n",
       "      <td>NaN</td>\n",
       "      <td>NaN</td>\n",
       "      <td>76</td>\n",
       "      <td>NaN</td>\n",
       "      <td>NaN</td>\n",
       "      <td>NaN</td>\n",
       "      <td>...</td>\n",
       "      <td>[OrderedDict([('@level', '21'), ('@value', 'No...</td>\n",
       "      <td>[OrderedDict([('@numplayers', '1'), ('result',...</td>\n",
       "      <td>[OrderedDict([('@value', '2'), ('@numvotes', '...</td>\n",
       "      <td>https://cf.geekdo-images.com/thumb/img/iPlTR5c...</td>\n",
       "      <td>1806</td>\n",
       "      <td>boardgame</td>\n",
       "      <td>68284</td>\n",
       "      <td>571</td>\n",
       "      <td>6703</td>\n",
       "      <td>2008</td>\n",
       "    </tr>\n",
       "  </tbody>\n",
       "</table>\n",
       "<p>5 rows × 56 columns</p>\n",
       "</div>"
      ],
      "text/plain": [
       "   Unnamed: 0  Abstract Game Rank  Accessory Rank  Amiga Rank  Arcade Rank  \\\n",
       "0           0                 NaN             NaN         NaN          NaN   \n",
       "1           1                 NaN             NaN         NaN          NaN   \n",
       "2           2                 NaN             NaN         NaN          NaN   \n",
       "3           3                 NaN             NaN         NaN          NaN   \n",
       "4           4                 NaN             NaN         NaN          NaN   \n",
       "\n",
       "   Atari ST Rank Board Game Rank  Children's Game Rank  Commodore 64 Rank  \\\n",
       "0            NaN             327                   NaN                NaN   \n",
       "1            NaN             151                   NaN                NaN   \n",
       "2            NaN              74                   NaN                NaN   \n",
       "3            NaN              45                   NaN                NaN   \n",
       "4            NaN              76                   NaN                NaN   \n",
       "\n",
       "   Customizable Rank  ...                      suggested_language_dependence  \\\n",
       "0                NaN  ...  [OrderedDict([('@level', '36'), ('@value', 'No...   \n",
       "1                NaN  ...  [OrderedDict([('@level', '1'), ('@value', 'No ...   \n",
       "2                NaN  ...  [OrderedDict([('@level', '21'), ('@value', 'No...   \n",
       "3                NaN  ...  [OrderedDict([('@level', '1'), ('@value', 'No ...   \n",
       "4                NaN  ...  [OrderedDict([('@level', '21'), ('@value', 'No...   \n",
       "\n",
       "                               suggested_num_players  \\\n",
       "0  [OrderedDict([('@numplayers', '1'), ('result',...   \n",
       "1  [OrderedDict([('@numplayers', '1'), ('result',...   \n",
       "2  [OrderedDict([('@numplayers', '1'), ('result',...   \n",
       "3  [OrderedDict([('@numplayers', '1'), ('result',...   \n",
       "4  [OrderedDict([('@numplayers', '1'), ('result',...   \n",
       "\n",
       "                                 suggested_playerage  \\\n",
       "0  [OrderedDict([('@value', '2'), ('@numvotes', '...   \n",
       "1  [OrderedDict([('@value', '2'), ('@numvotes', '...   \n",
       "2  [OrderedDict([('@value', '2'), ('@numvotes', '...   \n",
       "3  [OrderedDict([('@value', '2'), ('@numvotes', '...   \n",
       "4  [OrderedDict([('@value', '2'), ('@numvotes', '...   \n",
       "\n",
       "                                           thumbnail  trading       type  \\\n",
       "0  https://cf.geekdo-images.com/thumb/img/g8LvJsd...     1685  boardgame   \n",
       "1  https://cf.geekdo-images.com/thumb/img/kqE4YJS...     1477  boardgame   \n",
       "2  https://cf.geekdo-images.com/thumb/img/HEKrtpT...     1977  boardgame   \n",
       "3  https://cf.geekdo-images.com/thumb/img/Grz-qM9...     1162  boardgame   \n",
       "4  https://cf.geekdo-images.com/thumb/img/iPlTR5c...     1806  boardgame   \n",
       "\n",
       "   usersrated wanting  wishing  yearpublished  \n",
       "0       85332     453     4729           1995  \n",
       "1       85052     498     5403           2000  \n",
       "2       83486     614     7655           2008  \n",
       "3       69132    1029     9464           2010  \n",
       "4       68284     571     6703           2008  \n",
       "\n",
       "[5 rows x 56 columns]"
      ]
     },
     "execution_count": 3,
     "metadata": {},
     "output_type": "execute_result"
    }
   ],
   "source": [
    " detailed_df.head()"
   ]
  },
  {
   "cell_type": "code",
   "execution_count": 4,
   "metadata": {},
   "outputs": [
    {
     "data": {
      "text/html": [
       "<div>\n",
       "<style scoped>\n",
       "    .dataframe tbody tr th:only-of-type {\n",
       "        vertical-align: middle;\n",
       "    }\n",
       "\n",
       "    .dataframe tbody tr th {\n",
       "        vertical-align: top;\n",
       "    }\n",
       "\n",
       "    .dataframe thead th {\n",
       "        text-align: right;\n",
       "    }\n",
       "</style>\n",
       "<table border=\"1\" class=\"dataframe\">\n",
       "  <thead>\n",
       "    <tr style=\"text-align: right;\">\n",
       "      <th></th>\n",
       "      <th>Unnamed: 0</th>\n",
       "      <th>user</th>\n",
       "      <th>rating</th>\n",
       "      <th>comment</th>\n",
       "      <th>ID</th>\n",
       "      <th>name</th>\n",
       "    </tr>\n",
       "  </thead>\n",
       "  <tbody>\n",
       "    <tr>\n",
       "      <td>0</td>\n",
       "      <td>0</td>\n",
       "      <td>sidehacker</td>\n",
       "      <td>10.0</td>\n",
       "      <td>NaN</td>\n",
       "      <td>13</td>\n",
       "      <td>Catan</td>\n",
       "    </tr>\n",
       "    <tr>\n",
       "      <td>1</td>\n",
       "      <td>1</td>\n",
       "      <td>Varthlokkur</td>\n",
       "      <td>10.0</td>\n",
       "      <td>NaN</td>\n",
       "      <td>13</td>\n",
       "      <td>Catan</td>\n",
       "    </tr>\n",
       "    <tr>\n",
       "      <td>2</td>\n",
       "      <td>2</td>\n",
       "      <td>dougthonus</td>\n",
       "      <td>10.0</td>\n",
       "      <td>Currently, this sits on my list as my favorite...</td>\n",
       "      <td>13</td>\n",
       "      <td>Catan</td>\n",
       "    </tr>\n",
       "    <tr>\n",
       "      <td>3</td>\n",
       "      <td>3</td>\n",
       "      <td>cypar7</td>\n",
       "      <td>10.0</td>\n",
       "      <td>I know it says how many plays, but many, many ...</td>\n",
       "      <td>13</td>\n",
       "      <td>Catan</td>\n",
       "    </tr>\n",
       "    <tr>\n",
       "      <td>4</td>\n",
       "      <td>4</td>\n",
       "      <td>ssmooth</td>\n",
       "      <td>10.0</td>\n",
       "      <td>NaN</td>\n",
       "      <td>13</td>\n",
       "      <td>Catan</td>\n",
       "    </tr>\n",
       "  </tbody>\n",
       "</table>\n",
       "</div>"
      ],
      "text/plain": [
       "   Unnamed: 0         user  rating  \\\n",
       "0           0   sidehacker    10.0   \n",
       "1           1  Varthlokkur    10.0   \n",
       "2           2   dougthonus    10.0   \n",
       "3           3       cypar7    10.0   \n",
       "4           4      ssmooth    10.0   \n",
       "\n",
       "                                             comment  ID   name  \n",
       "0                                                NaN  13  Catan  \n",
       "1                                                NaN  13  Catan  \n",
       "2  Currently, this sits on my list as my favorite...  13  Catan  \n",
       "3  I know it says how many plays, but many, many ...  13  Catan  \n",
       "4                                                NaN  13  Catan  "
      ]
     },
     "execution_count": 4,
     "metadata": {},
     "output_type": "execute_result"
    }
   ],
   "source": [
    "reviews_df.head()"
   ]
  },
  {
   "cell_type": "code",
   "execution_count": 5,
   "metadata": {},
   "outputs": [
    {
     "data": {
      "text/html": [
       "<div>\n",
       "<style scoped>\n",
       "    .dataframe tbody tr th:only-of-type {\n",
       "        vertical-align: middle;\n",
       "    }\n",
       "\n",
       "    .dataframe tbody tr th {\n",
       "        vertical-align: top;\n",
       "    }\n",
       "\n",
       "    .dataframe thead th {\n",
       "        text-align: right;\n",
       "    }\n",
       "</style>\n",
       "<table border=\"1\" class=\"dataframe\">\n",
       "  <thead>\n",
       "    <tr style=\"text-align: right;\">\n",
       "      <th></th>\n",
       "      <th>ID</th>\n",
       "      <th>Name</th>\n",
       "      <th>Year</th>\n",
       "      <th>Rank</th>\n",
       "      <th>Average</th>\n",
       "      <th>Bayes average</th>\n",
       "      <th>Users rated</th>\n",
       "      <th>URL</th>\n",
       "      <th>Thumbnail</th>\n",
       "    </tr>\n",
       "  </thead>\n",
       "  <tbody>\n",
       "    <tr>\n",
       "      <td>0</td>\n",
       "      <td>174430</td>\n",
       "      <td>Gloomhaven</td>\n",
       "      <td>2017</td>\n",
       "      <td>1</td>\n",
       "      <td>8.90</td>\n",
       "      <td>8.611</td>\n",
       "      <td>24574</td>\n",
       "      <td>/boardgame/174430/gloomhaven</td>\n",
       "      <td>https://cf.geekdo-images.com/micro/img/8JYMPXd...</td>\n",
       "    </tr>\n",
       "    <tr>\n",
       "      <td>1</td>\n",
       "      <td>161936</td>\n",
       "      <td>Pandemic Legacy: Season 1</td>\n",
       "      <td>2015</td>\n",
       "      <td>2</td>\n",
       "      <td>8.64</td>\n",
       "      <td>8.489</td>\n",
       "      <td>30921</td>\n",
       "      <td>/boardgame/161936/pandemic-legacy-season-1</td>\n",
       "      <td>https://cf.geekdo-images.com/micro/img/KbAKyhb...</td>\n",
       "    </tr>\n",
       "    <tr>\n",
       "      <td>2</td>\n",
       "      <td>182028</td>\n",
       "      <td>Through the Ages: A New Story of Civilization</td>\n",
       "      <td>2015</td>\n",
       "      <td>3</td>\n",
       "      <td>8.53</td>\n",
       "      <td>8.258</td>\n",
       "      <td>15551</td>\n",
       "      <td>/boardgame/182028/through-ages-new-story-civil...</td>\n",
       "      <td>https://cf.geekdo-images.com/micro/img/APvZ_BY...</td>\n",
       "    </tr>\n",
       "    <tr>\n",
       "      <td>3</td>\n",
       "      <td>167791</td>\n",
       "      <td>Terraforming Mars</td>\n",
       "      <td>2016</td>\n",
       "      <td>4</td>\n",
       "      <td>8.40</td>\n",
       "      <td>8.242</td>\n",
       "      <td>38331</td>\n",
       "      <td>/boardgame/167791/terraforming-mars</td>\n",
       "      <td>https://cf.geekdo-images.com/micro/img/71v8jF5...</td>\n",
       "    </tr>\n",
       "    <tr>\n",
       "      <td>4</td>\n",
       "      <td>12333</td>\n",
       "      <td>Twilight Struggle</td>\n",
       "      <td>2005</td>\n",
       "      <td>5</td>\n",
       "      <td>8.33</td>\n",
       "      <td>8.175</td>\n",
       "      <td>34268</td>\n",
       "      <td>/boardgame/12333/twilight-struggle</td>\n",
       "      <td>https://cf.geekdo-images.com/micro/img/uStZr7_...</td>\n",
       "    </tr>\n",
       "  </tbody>\n",
       "</table>\n",
       "</div>"
      ],
      "text/plain": [
       "       ID                                           Name  Year  Rank  Average  \\\n",
       "0  174430                                     Gloomhaven  2017     1     8.90   \n",
       "1  161936                      Pandemic Legacy: Season 1  2015     2     8.64   \n",
       "2  182028  Through the Ages: A New Story of Civilization  2015     3     8.53   \n",
       "3  167791                              Terraforming Mars  2016     4     8.40   \n",
       "4   12333                              Twilight Struggle  2005     5     8.33   \n",
       "\n",
       "   Bayes average  Users rated  \\\n",
       "0          8.611        24574   \n",
       "1          8.489        30921   \n",
       "2          8.258        15551   \n",
       "3          8.242        38331   \n",
       "4          8.175        34268   \n",
       "\n",
       "                                                 URL  \\\n",
       "0                       /boardgame/174430/gloomhaven   \n",
       "1         /boardgame/161936/pandemic-legacy-season-1   \n",
       "2  /boardgame/182028/through-ages-new-story-civil...   \n",
       "3                /boardgame/167791/terraforming-mars   \n",
       "4                 /boardgame/12333/twilight-struggle   \n",
       "\n",
       "                                           Thumbnail  \n",
       "0  https://cf.geekdo-images.com/micro/img/8JYMPXd...  \n",
       "1  https://cf.geekdo-images.com/micro/img/KbAKyhb...  \n",
       "2  https://cf.geekdo-images.com/micro/img/APvZ_BY...  \n",
       "3  https://cf.geekdo-images.com/micro/img/71v8jF5...  \n",
       "4  https://cf.geekdo-images.com/micro/img/uStZr7_...  "
      ]
     },
     "execution_count": 5,
     "metadata": {},
     "output_type": "execute_result"
    }
   ],
   "source": [
    "ranking_df.head()"
   ]
  },
  {
   "cell_type": "code",
   "execution_count": 6,
   "metadata": {},
   "outputs": [
    {
     "name": "stdout",
     "output_type": "stream",
     "text": [
      "detailed_df (rows ,columns ) (17063, 56)\n",
      "ranking_df (rows ,columns ) (17065, 9)\n",
      "reviews_df (rows ,columns ) (13170073, 6)\n"
     ]
    }
   ],
   "source": [
    "# check the size of each file \n",
    "print(\"detailed_df (rows ,columns )\",detailed_df.shape)\n",
    "print(\"ranking_df (rows ,columns )\", ranking_df.shape)\n",
    "print(\"reviews_df (rows ,columns )\",reviews_df.shape)"
   ]
  },
  {
   "cell_type": "markdown",
   "metadata": {},
   "source": [
    "We can use the method  'info()' to have a gereral idea about the columns names, data type, and missing data in each column"
   ]
  },
  {
   "cell_type": "code",
   "execution_count": 7,
   "metadata": {},
   "outputs": [
    {
     "name": "stdout",
     "output_type": "stream",
     "text": [
      "<class 'pandas.core.frame.DataFrame'>\n",
      "RangeIndex: 17063 entries, 0 to 17062\n",
      "Data columns (total 56 columns):\n",
      "Unnamed: 0                       17063 non-null int64\n",
      "Abstract Game Rank               953 non-null float64\n",
      "Accessory Rank                   1 non-null float64\n",
      "Amiga Rank                       1 non-null float64\n",
      "Arcade Rank                      1 non-null float64\n",
      "Atari ST Rank                    1 non-null float64\n",
      "Board Game Rank                  17063 non-null object\n",
      "Children's Game Rank             767 non-null float64\n",
      "Commodore 64 Rank                1 non-null float64\n",
      "Customizable Rank                280 non-null float64\n",
      "Family Game Rank                 1806 non-null float64\n",
      "Party Game Rank                  525 non-null float64\n",
      "RPG Item Rank                    1 non-null float64\n",
      "Strategy Game Rank               1900 non-null float64\n",
      "Thematic Rank                    1037 non-null float64\n",
      "Video Game Rank                  1 non-null float64\n",
      "War Game Rank                    2921 non-null float64\n",
      "alternate                        6923 non-null object\n",
      "average                          17063 non-null float64\n",
      "averageweight                    17063 non-null float64\n",
      "bayesaverage                     17063 non-null float64\n",
      "boardgameartist                  12150 non-null object\n",
      "boardgamecategory                16879 non-null object\n",
      "boardgamecompilation             552 non-null object\n",
      "boardgamedesigner                16725 non-null object\n",
      "boardgameexpansion               4062 non-null object\n",
      "boardgamefamily                  12509 non-null object\n",
      "boardgameimplementation          3280 non-null object\n",
      "boardgameintegration             1087 non-null object\n",
      "boardgamemechanic                15499 non-null object\n",
      "boardgamepublisher               17063 non-null object\n",
      "description                      17062 non-null object\n",
      "id                               17063 non-null int64\n",
      "image                            17023 non-null object\n",
      "maxplayers                       17063 non-null int64\n",
      "maxplaytime                      17063 non-null int64\n",
      "median                           17063 non-null int64\n",
      "minage                           17063 non-null int64\n",
      "minplayers                       17063 non-null int64\n",
      "minplaytime                      17063 non-null int64\n",
      "numcomments                      17063 non-null int64\n",
      "numweights                       17063 non-null int64\n",
      "owned                            17063 non-null int64\n",
      "playingtime                      17063 non-null int64\n",
      "primary                          17063 non-null object\n",
      "stddev                           17063 non-null float64\n",
      "suggested_language_dependence    14196 non-null object\n",
      "suggested_num_players            17063 non-null object\n",
      "suggested_playerage              14536 non-null object\n",
      "thumbnail                        17023 non-null object\n",
      "trading                          17063 non-null int64\n",
      "type                             17063 non-null object\n",
      "usersrated                       17063 non-null int64\n",
      "wanting                          17063 non-null int64\n",
      "wishing                          17063 non-null int64\n",
      "yearpublished                    17063 non-null int64\n",
      "dtypes: float64(19), int64(17), object(20)\n",
      "memory usage: 7.3+ MB\n",
      "<class 'pandas.core.frame.DataFrame'>\n",
      "RangeIndex: 17065 entries, 0 to 17064\n",
      "Data columns (total 9 columns):\n",
      "ID               17065 non-null int64\n",
      "Name             17065 non-null object\n",
      "Year             17065 non-null int64\n",
      "Rank             17065 non-null int64\n",
      "Average          17065 non-null float64\n",
      "Bayes average    17065 non-null float64\n",
      "Users rated      17065 non-null int64\n",
      "URL              17065 non-null object\n",
      "Thumbnail        17020 non-null object\n",
      "dtypes: float64(2), int64(4), object(3)\n",
      "memory usage: 1.2+ MB\n",
      "<class 'pandas.core.frame.DataFrame'>\n",
      "RangeIndex: 13170073 entries, 0 to 13170072\n",
      "Data columns (total 6 columns):\n",
      "Unnamed: 0    int64\n",
      "user          object\n",
      "rating        float64\n",
      "comment       object\n",
      "ID            int64\n",
      "name          object\n",
      "dtypes: float64(1), int64(2), object(3)\n",
      "memory usage: 602.9+ MB\n"
     ]
    }
   ],
   "source": [
    "# check the columns names, data type, and missing data\n",
    "detailed_df.info()\n",
    "ranking_df.info()\n",
    "reviews_df.info()"
   ]
  },
  {
   "cell_type": "markdown",
   "metadata": {},
   "source": [
    "\n",
    "<a id = \"Data_Processing\"></a>"
   ]
  },
  {
   "cell_type": "markdown",
   "metadata": {},
   "source": [
    "<h1 id=\"Data_Processing\" style='color:blue'> Data Processing </h1>"
   ]
  },
  {
   "cell_type": "markdown",
   "metadata": {},
   "source": [
    "\n",
    "\n",
    "\n",
    "Data cleaning and data processing are important steps for a good model, usually, these steps required much of time but it totally worth it at the end. \n",
    "In this section, we are going to drop all the missing columns and the missing reviews. Then we are going to merge all the data frames together to produce one data frame with all the required features.\n",
    "\n"
   ]
  },
  {
   "cell_type": "code",
   "execution_count": 8,
   "metadata": {
    "scrolled": true
   },
   "outputs": [
    {
     "data": {
      "text/plain": [
       "Unnamed: 0           0\n",
       "user                66\n",
       "rating               0\n",
       "comment       10532317\n",
       "ID                   0\n",
       "name                 0\n",
       "dtype: int64"
      ]
     },
     "execution_count": 8,
     "metadata": {},
     "output_type": "execute_result"
    }
   ],
   "source": [
    "# count the missing data\n",
    "detailed_df.isnull().sum()\n",
    "ranking_df.isnull().sum()\n",
    "reviews_df.isnull().sum()"
   ]
  },
  {
   "cell_type": "markdown",
   "metadata": {},
   "source": [
    "\n",
    "\n",
    "In our way to prepare the dataset, we will remove all the unrelated features to the problem. In the game's details file, there are 25 columns are missing more than 80% of their values, so they will be removed, as well as the 'URL','Thumbnail' from the ranking file, and 'Unnamed: 0' form the review file. Finally, we will delete all the 10532317 missing comments rows. \n",
    "\n"
   ]
  },
  {
   "cell_type": "code",
   "execution_count": 9,
   "metadata": {},
   "outputs": [],
   "source": [
    "# Drop all the coulmns with missing values and the redundent/uneeded once for our classfiaction problem\n",
    "\n",
    "detailed_df = detailed_df.drop(axis=1, index=None, columns=[\n",
    "'Unnamed: 0',   'Abstract Game Rank','Accessory Rank', 'Amiga Rank','Arcade Rank', 'Atari ST Rank',                   \n",
    "\"Children's Game Rank\", 'Commodore 64 Rank','Customizable Rank', 'Family Game Rank','Party Game Rank',                  \n",
    "'RPG Item Rank', 'Strategy Game Rank', 'Thematic Rank', 'Video Game Rank',                  \n",
    "'War Game Rank', 'alternate', 'boardgameartist', 'boardgamecategory', 'boardgamecompilation',             \n",
    "'boardgamedesigner', 'boardgameexpansion',  'boardgamefamily',  'boardgameimplementation',          \n",
    "'boardgameintegration', 'boardgamemechanic','boardgamepublisher', 'description','image',                               \n",
    "'suggested_language_dependence', 'suggested_playerage', 'thumbnail','type' ])\n",
    "\n",
    "ranking_df = ranking_df.drop(axis=1, index=None, columns=['URL','Thumbnail'])\n",
    "\n",
    "reviews_df = reviews_df.drop(axis=1 ,columns=['Unnamed: 0']) \n",
    "\n",
    "reviews_df = reviews_df.dropna(axis=0 ,subset=['comment'])    # Drop all missing reviews "
   ]
  },
  {
   "cell_type": "markdown",
   "metadata": {},
   "source": [
    "\n",
    "\n",
    "\n",
    "The following step is an Inner join between the detailed_df & ranking_df data-farms, based on ID's, where both of them almost has the same numbers of rows. Using an inner join requires each row in the two joined data-frames to have the same number of rows, this could lead to loss of some rows, unlike the left join. Then the following step is a left join between the outcome of the inner join with the review data-frame where this last one has 13170073 instances. \n",
    "\n",
    "\n"
   ]
  },
  {
   "cell_type": "code",
   "execution_count": 10,
   "metadata": {},
   "outputs": [],
   "source": [
    "ranking_detailed_df = pd.merge(left=ranking_df, right=detailed_df, left_on='ID', right_on='id') # inner join"
   ]
  },
  {
   "cell_type": "code",
   "execution_count": 11,
   "metadata": {},
   "outputs": [
    {
     "data": {
      "text/plain": [
       "(2637756, 34)"
      ]
     },
     "execution_count": 11,
     "metadata": {},
     "output_type": "execute_result"
    }
   ],
   "source": [
    "joint_df = pd.merge(left=reviews_df, right=ranking_detailed_df, how='left', left_on='ID', right_on='ID') # left join\n",
    "joint_df.shape"
   ]
  },
  {
   "cell_type": "code",
   "execution_count": 12,
   "metadata": {},
   "outputs": [],
   "source": [
    "joint_df = joint_df.dropna(axis=0)"
   ]
  },
  {
   "cell_type": "markdown",
   "metadata": {},
   "source": [
    "\n",
    "\n",
    "Now after we did some cleaning and merged the data-frames, we now have one data-frame, but still, there some work that needs to be done, making sure that we have only the useful data without redundant or missing values. \n",
    "So now we are going to dig a little bit deeper into the columns, understanding the correlation between them regards to the target vector which is the 'rating'.\n",
    "\n"
   ]
  },
  {
   "cell_type": "markdown",
   "metadata": {},
   "source": [
    "\n",
    "\n",
    "The method 'corr()' is a statistical tool to calculate the correlation between the feature and the target. The correlation between the numerical features is a good way to reduce model complexity and avoid what's known as overfitting situation. The closer the value to one the strongest correlation, the closer to zero the weaker correlation.\n",
    "\n"
   ]
  },
  {
   "cell_type": "code",
   "execution_count": 13,
   "metadata": {},
   "outputs": [
    {
     "data": {
      "text/plain": [
       "rating           1.000000\n",
       "ID               0.142289\n",
       "Year             0.079402\n",
       "Rank            -0.377836\n",
       "Average          0.472208\n",
       "Bayes average    0.391648\n",
       "Users rated      0.168143\n",
       "average          0.472183\n",
       "averageweight    0.262816\n",
       "bayesaverage     0.391592\n",
       "id               0.142289\n",
       "maxplayers      -0.033505\n",
       "maxplaytime      0.025177\n",
       "median                NaN\n",
       "minage           0.154818\n",
       "minplayers      -0.062163\n",
       "minplaytime      0.012621\n",
       "numcomments      0.162665\n",
       "numweights       0.147719\n",
       "owned            0.155470\n",
       "playingtime      0.025177\n",
       "stddev          -0.148269\n",
       "trading          0.107020\n",
       "usersrated       0.168679\n",
       "wanting          0.297591\n",
       "wishing          0.275067\n",
       "yearpublished    0.043494\n",
       "Name: rating, dtype: float64"
      ]
     },
     "execution_count": 13,
     "metadata": {},
     "output_type": "execute_result"
    }
   ],
   "source": [
    "# ths corolation of numeric values to the the target 'Rating' the main ranking\n",
    "correlations = joint_df.corr()\n",
    "correlations['rating'] "
   ]
  },
  {
   "cell_type": "code",
   "execution_count": 14,
   "metadata": {},
   "outputs": [
    {
     "data": {
      "text/plain": [
       "<matplotlib.axes._subplots.AxesSubplot at 0x141323e10>"
      ]
     },
     "execution_count": 14,
     "metadata": {},
     "output_type": "execute_result"
    },
    {
     "data": {
      "image/png": "[encoded data removed]",
      "text/plain": [
       "<Figure size 576x432 with 1 Axes>"
      ]
     },
     "metadata": {
      "needs_background": "light"
     },
     "output_type": "display_data"
    }
   ],
   "source": [
    "# plot # 'rating', 'Average','averageweight', 'Bayes average', 'stddev','numweights', 'Rank','Board Game Rank'\n",
    "plt.figure(figsize=(8, 6))\n",
    "sns.set(color_codes=\"True\")\n",
    "sns.distplot(joint_df[\"rating\"])"
   ]
  },
  {
   "cell_type": "code",
   "execution_count": 15,
   "metadata": {},
   "outputs": [
    {
     "data": {
      "text/plain": [
       "<matplotlib.axes._subplots.AxesSubplot at 0x1438b2850>"
      ]
     },
     "execution_count": 15,
     "metadata": {},
     "output_type": "execute_result"
    },
    {
     "data": {
      "image/png": "[encoded data removed]",
      "text/plain": [
       "<Figure size 576x432 with 1 Axes>"
      ]
     },
     "metadata": {},
     "output_type": "display_data"
    }
   ],
   "source": [
    "plt.figure(figsize=(8, 6))\n",
    "sns.set(color_codes=\"True\")\n",
    "sns.distplot(joint_df[\"Average\"])"
   ]
  },
  {
   "cell_type": "code",
   "execution_count": 16,
   "metadata": {},
   "outputs": [
    {
     "data": {
      "text/plain": [
       "<matplotlib.axes._subplots.AxesSubplot at 0x1440e9710>"
      ]
     },
     "execution_count": 16,
     "metadata": {},
     "output_type": "execute_result"
    },
    {
     "data": {
      "image/png": "[encoded data removed]",
      "text/plain": [
       "<Figure size 576x432 with 1 Axes>"
      ]
     },
     "metadata": {},
     "output_type": "display_data"
    }
   ],
   "source": [
    "plt.figure(figsize=(8, 6))\n",
    "sns.set(color_codes=\"True\")\n",
    "sns.distplot(joint_df[\"Rank\"])"
   ]
  },
  {
   "cell_type": "code",
   "execution_count": 17,
   "metadata": {},
   "outputs": [
    {
     "data": {
      "text/plain": [
       "<matplotlib.axes._subplots.AxesSubplot at 0x143dd5a10>"
      ]
     },
     "execution_count": 17,
     "metadata": {},
     "output_type": "execute_result"
    },
    {
     "data": {
      "image/png": "[encoded data removed]",
      "text/plain": [
       "<Figure size 576x432 with 1 Axes>"
      ]
     },
     "metadata": {},
     "output_type": "display_data"
    }
   ],
   "source": [
    "plt.figure(figsize=(8, 6))\n",
    "sns.set(color_codes=\"True\")\n",
    "sns.distplot(joint_df[\"averageweight\"])"
   ]
  },
  {
   "cell_type": "code",
   "execution_count": 18,
   "metadata": {},
   "outputs": [
    {
     "data": {
      "text/plain": [
       "<matplotlib.axes._subplots.AxesSubplot at 0x143bd0790>"
      ]
     },
     "execution_count": 18,
     "metadata": {},
     "output_type": "execute_result"
    },
    {
     "data": {
      "image/png": "[encoded data removed]",
      "text/plain": [
       "<Figure size 576x432 with 1 Axes>"
      ]
     },
     "metadata": {},
     "output_type": "display_data"
    }
   ],
   "source": [
    "plt.figure(figsize=(8, 6))\n",
    "sns.set(color_codes=\"True\")\n",
    "sns.distplot(joint_df[\"numweights\"])"
   ]
  },
  {
   "cell_type": "code",
   "execution_count": 19,
   "metadata": {},
   "outputs": [
    {
     "data": {
      "text/plain": [
       "<matplotlib.axes._subplots.AxesSubplot at 0x1441fb290>"
      ]
     },
     "execution_count": 19,
     "metadata": {},
     "output_type": "execute_result"
    },
    {
     "data": {
      "image/png": "[encoded data removed]",
      "text/plain": [
       "<Figure size 576x432 with 1 Axes>"
      ]
     },
     "metadata": {},
     "output_type": "display_data"
    }
   ],
   "source": [
    "plt.figure(figsize=(8, 6))\n",
    "sns.set(color_codes=\"True\")\n",
    "sns.distplot(joint_df[\"Bayes average\"])"
   ]
  },
  {
   "cell_type": "code",
   "execution_count": 20,
   "metadata": {},
   "outputs": [
    {
     "data": {
      "text/plain": [
       "<matplotlib.axes._subplots.AxesSubplot at 0x1442af350>"
      ]
     },
     "execution_count": 20,
     "metadata": {},
     "output_type": "execute_result"
    },
    {
     "data": {
      "image/png": "[encoded data removed]",
      "text/plain": [
       "<Figure size 576x432 with 1 Axes>"
      ]
     },
     "metadata": {},
     "output_type": "display_data"
    }
   ],
   "source": [
    "plt.figure(figsize=(8, 6))\n",
    "sns.set(color_codes=\"True\")\n",
    "sns.distplot(joint_df[\"stddev\"])"
   ]
  },
  {
   "cell_type": "markdown",
   "metadata": {},
   "source": [
    "\n",
    "\n",
    "From the above, we can see that some features have a negative correlation with the target so we element them, as well as the very strong correlated once.  Rank, Average, Bayes average, ID, and stddev, all of them will be removed to reduce the model complexity. \n",
    "The above graphs give us more sight on these data, obviously Rating and Average have the same purpose, then the Bayes average and averge-weight are related to the game complexity. Finally Rank and num-weights are looks the same. All of these data can be ignored for our model.  A feature engineering we can do is to find the difference between the following:\n",
    "\n",
    "                                        * playes_num = 'maxplayers'-'minplayers'\n",
    "                                        * play_time = 'maxplaytime' - 'minplaytime'\n",
    "                                        * set the max value of 'playingtime','play_time'\n",
    "\n",
    "The last one is taking the maximum value between the newly play_time column we created and the existing playing-time column.\n",
    "\n"
   ]
  },
  {
   "cell_type": "code",
   "execution_count": 21,
   "metadata": {},
   "outputs": [],
   "source": [
    "joint_df['playes_num'] = joint_df['maxplayers'] - joint_df['minplayers']\n",
    "joint_df['play_time'] = joint_df['maxplaytime'] - joint_df['minplaytime']\n",
    "joint_df['Time'] = joint_df[['playingtime','play_time']].max(axis=1)\n",
    "\n",
    "#joint_df['Board Game Rank'] = joint_df['Board Game Rank'].apply(pd.to_numeric, errors='coerce')  # convert from object to numeric"
   ]
  },
  {
   "cell_type": "markdown",
   "metadata": {},
   "source": [
    "We just want to order the features for a better visualisation. "
   ]
  },
  {
   "cell_type": "code",
   "execution_count": 22,
   "metadata": {},
   "outputs": [
    {
     "data": {
      "text/plain": [
       "(2637734, 15)"
      ]
     },
     "execution_count": 22,
     "metadata": {},
     "output_type": "execute_result"
    }
   ],
   "source": [
    "\n",
    "joint_reviews_renking_detailed = joint_df[['Name','Year','rating','numweights','usersrated',\n",
    "                                           'numcomments','user','comment', 'wanting', 'wishing', \n",
    "                                           'trading', 'owned','Time','playes_num','minage']]\n",
    "joint_reviews_renking_detailed.shape"
   ]
  },
  {
   "cell_type": "code",
   "execution_count": 23,
   "metadata": {},
   "outputs": [
    {
     "data": {
      "text/plain": [
       "(2637734, 15)"
      ]
     },
     "execution_count": 23,
     "metadata": {},
     "output_type": "execute_result"
    }
   ],
   "source": [
    "#for last time lets drop all the missing and dupliactes rows\n",
    "joint_reviews_renking_detailed = joint_reviews_renking_detailed.dropna(axis=0)\n",
    "joint_reviews_renking_detailed = joint_reviews_renking_detailed.drop_duplicates(subset=None, keep=\"first\", inplace=False)\n",
    "joint_reviews_renking_detailed.shape"
   ]
  },
  {
   "cell_type": "markdown",
   "metadata": {},
   "source": [
    "\n",
    "Free our memory from unused data-frames using del keyword, this will help to reduce the allocated memory and speed the computation time. \n"
   ]
  },
  {
   "cell_type": "code",
   "execution_count": 24,
   "metadata": {},
   "outputs": [],
   "source": [
    "del detailed_df\n",
    "del reviews_df\n",
    "del ranking_df\n",
    "del ranking_detailed_df\n",
    "del joint_df"
   ]
  },
  {
   "cell_type": "markdown",
   "metadata": {},
   "source": [
    "\n",
    "<a id = \"Data_Exploration\"></a>"
   ]
  },
  {
   "cell_type": "markdown",
   "metadata": {},
   "source": [
    "<h1 id=\"Data_Exploration\" style='color:blue'>Data Exploration</h1>"
   ]
  },
  {
   "cell_type": "markdown",
   "metadata": {},
   "source": [
    "\n",
    "\n",
    "Presently, let's focus narrowly on the data we end up with. Using a heatmap can present the correlation between all the numerical features. The extremely dark spots in the heat map indicate a significant correlation between the features. \n"
   ]
  },
  {
   "cell_type": "code",
   "execution_count": 25,
   "metadata": {},
   "outputs": [
    {
     "data": {
      "image/png": "[encoded data removed]",
      "text/plain": [
       "<Figure size 648x504 with 2 Axes>"
      ]
     },
     "metadata": {},
     "output_type": "display_data"
    }
   ],
   "source": [
    "figure1 = joint_reviews_renking_detailed.corr()\n",
    "fig =plt.figure (figsize=(9,7))\n",
    "sns.heatmap(figure1, vmax= .8 ,square=True)\n",
    "plt.show()"
   ]
  },
  {
   "cell_type": "code",
   "execution_count": 26,
   "metadata": {},
   "outputs": [
    {
     "data": {
      "text/plain": [
       "<matplotlib.axes._subplots.AxesSubplot at 0x14395c950>"
      ]
     },
     "execution_count": 26,
     "metadata": {},
     "output_type": "execute_result"
    },
    {
     "data": {
      "image/png": "[encoded data removed]",
      "text/plain": [
       "<Figure size 648x504 with 1 Axes>"
      ]
     },
     "metadata": {},
     "output_type": "display_data"
    }
   ],
   "source": [
    "plt.figure(figsize=(9, 7))\n",
    "sns.set(color_codes=\"True\")\n",
    "sns.distplot(joint_reviews_renking_detailed[\"rating\"])"
   ]
  },
  {
   "cell_type": "code",
   "execution_count": 27,
   "metadata": {},
   "outputs": [
    {
     "data": {
      "text/plain": [
       "count    2.637734e+06\n",
       "mean     6.852076e+00\n",
       "std      1.775763e+00\n",
       "min      1.401300e-45\n",
       "25%      6.000000e+00\n",
       "50%      7.000000e+00\n",
       "75%      8.000000e+00\n",
       "max      1.000000e+01\n",
       "Name: rating, dtype: float64"
      ]
     },
     "execution_count": 27,
     "metadata": {},
     "output_type": "execute_result"
    }
   ],
   "source": [
    "joint_reviews_renking_detailed.rating.describe()"
   ]
  },
  {
   "cell_type": "markdown",
   "metadata": {},
   "source": [
    "\n",
    "\n",
    "An important notice from the above graph is the rating is a continuous variable later will convert it to integer and treat the rates as classes. \n",
    "\n",
    "Moreover, most of the games are rated between 6 to 8 where rate 7 represents the peak. This means we may challenge a skewed data representation or an imbalanced class representation.\n",
    "\n",
    "This challenge would affect the machine learning model, where the less rating representation might consider as an outlier. We will see later that some of the models can deal with this issue, and others are not. However, our main focus is the model accuracy, so we will ignore this problem for now.\n",
    "\n"
   ]
  },
  {
   "cell_type": "markdown",
   "metadata": {},
   "source": [
    "\n",
    "\n",
    "Now let's group the data by the game name, user, and year. So we can have an idea of the number of games, the number of users who wrote comments.  The most rated game is Carcassonne. \n",
    "\n"
   ]
  },
  {
   "cell_type": "code",
   "execution_count": 28,
   "metadata": {},
   "outputs": [],
   "source": [
    "rate_group = joint_reviews_renking_detailed.groupby(['rating'])\n",
    "name_group = joint_reviews_renking_detailed.groupby(['Name'])\n",
    "year_group = joint_reviews_renking_detailed.groupby(['Year'])\n",
    "user_group = joint_reviews_renking_detailed.groupby(['user'])"
   ]
  },
  {
   "cell_type": "code",
   "execution_count": 29,
   "metadata": {},
   "outputs": [
    {
     "name": "stdout",
     "output_type": "stream",
     "text": [
      "3408\n",
      "16726\n",
      "182\n",
      "115239\n"
     ]
    }
   ],
   "source": [
    "print(joint_reviews_renking_detailed['rating'].nunique())   \n",
    "print(joint_reviews_renking_detailed['Name'].nunique()) \n",
    "print(joint_reviews_renking_detailed['Year'].nunique()) \n",
    "print(joint_reviews_renking_detailed['user'].nunique()) "
   ]
  },
  {
   "cell_type": "code",
   "execution_count": 30,
   "metadata": {},
   "outputs": [
    {
     "name": "stdout",
     "output_type": "stream",
     "text": [
      "7.0    1\n",
      "dtype: int64\n",
      "Carcassonne    1\n",
      "dtype: int64\n",
      "2012.0    1\n",
      "dtype: int64\n",
      "Nap16    1\n",
      "dtype: int64\n"
     ]
    }
   ],
   "source": [
    "print(joint_reviews_renking_detailed.rating.mode().value_counts())\n",
    "print(joint_reviews_renking_detailed.Name.mode().value_counts())\n",
    "print(joint_reviews_renking_detailed.Year.mode().value_counts())\n",
    "print(joint_reviews_renking_detailed.user.mode().value_counts())"
   ]
  },
  {
   "cell_type": "markdown",
   "metadata": {},
   "source": [
    "Let's see the top 25 reviewed board games"
   ]
  },
  {
   "cell_type": "code",
   "execution_count": 31,
   "metadata": {},
   "outputs": [
    {
     "data": {
      "image/png": "[encoded data removed]",
      "text/plain": [
       "<Figure size 648x504 with 1 Axes>"
      ]
     },
     "metadata": {},
     "output_type": "display_data"
    }
   ],
   "source": [
    "plt.figure(figsize=(9, 7))\n",
    "joint_reviews_renking_detailed.loc[joint_reviews_renking_detailed['comment'].notna()]['Name'].value_counts()[:25].plot(kind='bar')\n",
    "plt.xlabel('Board Game Name')\n",
    "plt.ylabel('Review Count')\n",
    "plt.title('Top 25 Most Reviewed Board Games')\n",
    "plt.show()"
   ]
  },
  {
   "cell_type": "markdown",
   "metadata": {},
   "source": [
    "\n",
    "<a id = \"Text_preprocessing\"></a>"
   ]
  },
  {
   "cell_type": "markdown",
   "metadata": {},
   "source": [
    "<h1 id=\"Text_preprocessing\" style='color:blue'>Text preprocessing</h1>"
   ]
  },
  {
   "cell_type": "markdown",
   "metadata": {},
   "source": [
    "\n",
    "\n",
    "\n",
    "Instantly we are in our way to process the user reviews 'comment', dealing with a text is part of NLP Natural Language processing.\n",
    "\n",
    "Natural language processing NLP concerned by the interactions between computers and human languages. Where texts are required to be transferred from raw text to flat features, so machine learning methods can process and analyze. There are different techniques and many recommendations when working with text, it typically depends on the objective. \n",
    "\n",
    "Remember our goal is predicting the rate based on a given review. Therefore, to begin with, we have to transfer the text to tokens (Means split the text into separate words.) , second, we can do text cleaning as follows:\n",
    "\n",
    "* Remove the stop words(the highly frequent words like the, a, I, am, are, and so on) the reseason is the machine learning method will not learn significant information form these words, and doing so will appreciably reduce the computation time. \n",
    "* Remove the punctuations and all the tags, alter the text to lower case and so on \n",
    "* We can also drop all the words/vocabulary that appear rarely than five times in the whole reviews.\n",
    "* We also can see the most frequent words and indicate our new features, this what know as a Bag-of-Words(BoW).\n",
    "* An important point now the features will be in a shape of a matrix, this is mean that each word will represent a column and the value one will be assigned with corresponding to the review if the words are presents and zero otherwise, this is a basic technique to present the text as a feature and be able to train the model.\n",
    "\n",
    "For all the above we perform the following three functions:\n",
    "\n",
    "* tokenize_remove_punctuations(): to split the text into tokens (words), also lower them to avoid double counting, remove the stop_words=[\"all\",\"in\",\"the\",\"is\",\"and\",\"it\",\"we\",\"to\",\"an\",\"of\"], and count terms occurrence.\n",
    "***\n",
    "* sort_words_freq(): To sort the tokens based on their occurrence \n",
    "***\n",
    "* delete_threshold() : to remove the least common words if the occurrence is less than 5 times \n",
    "***\n",
    "* vector_matrix_review(): this function will give us the matrix representation of each token across the reviews, which we can use for the required machine learning method.\n",
    "\n",
    "\n"
   ]
  },
  {
   "cell_type": "code",
   "execution_count": 32,
   "metadata": {},
   "outputs": [],
   "source": [
    "# load \n",
    "from nltk.tokenize import word_tokenize\n",
    "from nltk.corpus import stopwords\n",
    "import re \n",
    "\n",
    "stop_words = set(stopwords.words('english')) \n",
    "replace_signs = re.compile('[/(){}\\[\\]\\|@,;]')    # Remove characteris from dict \n",
    "replace_digit = re.compile('[^0-9a-z #+_]')       # Remove digits from dict\n",
    "STOPWORDS = set(stopwords.words('english'))       # Remove stop words from dict\n",
    "words = set(nltk.corpus.words.words())\n",
    "\n",
    "\n",
    "# credits goes to this blog \n",
    "# https://towardsdatascience.com/multi-class-text-classification-model-comparison-and-selection-5eb066197568"
   ]
  },
  {
   "cell_type": "code",
   "execution_count": 33,
   "metadata": {},
   "outputs": [],
   "source": [
    "# Tokenize the text into tokens and count their frequencies\n",
    "def tokenize_remove_punctuations(X):               \n",
    "    wordfreq = {}\n",
    "    for text in X:\n",
    "        text = ' '.join(word for word in text.split() if word not in STOPWORDS \n",
    "                                         if not word.isdigit() if len(word)>1 )   #if not word.isalpha())\n",
    "        tokens = nltk.RegexpTokenizer(r\"\\w+\").tokenize(text.lower())                                                 # len(word)>2   \n",
    "        for token in tokens:                                    \n",
    "            if token not in wordfreq.keys():\n",
    "                wordfreq[token] = 1\n",
    "            else:\n",
    "                wordfreq[token] += 1\n",
    "                \n",
    "    return wordfreq \n",
    "\n",
    "\n",
    "\n",
    "# Sort words frequency in reverse order\n",
    "def sort_words_freq(wordfreq):                        \n",
    "    wordfreq_sorted = dict(sorted(wordfreq.items(), key=lambda x: x[1], reverse=True))\n",
    "    return wordfreq_sorted\n",
    " \n",
    "    \n",
    " # ignore rare words if the occurrence is less than five times (delete keys with value less than 5)   \n",
    "def delete_threshold(wordfreq_sorted):              \n",
    "    delete = []                                      \n",
    "    for key, val in wordfreq_sorted.items(): \n",
    "        if val < 5 : \n",
    "            delete.append(key) \n",
    "\n",
    "    for i in delete: \n",
    "        del wordfreq_sorted[i] \n",
    "    return   wordfreq_sorted\n",
    "    \n",
    "    \n",
    "#  BoW    \n",
    "def vector_matrix_review(X):\n",
    "    sentence_vectors = []\n",
    "    for txt,i  in zip(X,y):   #txt,i in train_set.iterrows():\n",
    "        sentence_tokens = nltk.RegexpTokenizer(r\"\\w+\").tokenize(txt)\n",
    "        sent_vec = []\n",
    "        for token in wordfreq_sorted_X:   \n",
    "            if token in sentence_tokens:\n",
    "                sent_vec.append(1)\n",
    "            else:\n",
    "                sent_vec.append(0)\n",
    "        sentence_vectors.append([sent_vec,i])\n",
    "    return sentence_vectors    "
   ]
  },
  {
   "cell_type": "code",
   "execution_count": 34,
   "metadata": {},
   "outputs": [],
   "source": [
    "x = tokenize_remove_punctuations(joint_reviews_renking_detailed['comment'])\n",
    "x = sort_words_freq(x)\n",
    "x = delete_threshold(x)"
   ]
  },
  {
   "cell_type": "markdown",
   "metadata": {},
   "source": [
    "\n",
    "\n",
    "We can see we end up with 104873 words to use as features, These features are terms form the reviews.\n",
    "\n"
   ]
  },
  {
   "cell_type": "code",
   "execution_count": 35,
   "metadata": {},
   "outputs": [
    {
     "data": {
      "text/plain": [
       "104873"
      ]
     },
     "execution_count": 35,
     "metadata": {},
     "output_type": "execute_result"
    }
   ],
   "source": [
    "len(x)"
   ]
  },
  {
   "cell_type": "markdown",
   "metadata": {},
   "source": [
    "\n",
    "\n",
    "Let's print the top 50 words in the dictionary,\n"
   ]
  },
  {
   "cell_type": "code",
   "execution_count": 36,
   "metadata": {},
   "outputs": [
    {
     "name": "stdout",
     "output_type": "stream",
     "text": [
      "{'game': 2579225, 'play': 755061, 'it': 685084, 'the': 618577, 'like': 530356, 'fun': 523627, 'one': 489238, 's': 480661, 'good': 401360, 'i': 398018, 'games': 386122, 'players': 365525, 'really': 360500, 'played': 355051, 'this': 338776, 'great': 331030, 'cards': 321630, 'player': 299628, 'much': 295691, 'time': 278989, 'get': 274947, 'well': 210733, 'rules': 209795, 'playing': 209517, 'card': 206935, 'would': 201089, 'little': 197993, 'first': 197060, 'plays': 192050, 'lot': 187849, 'better': 186553, 'there': 179096, 'theme': 178372, 'bit': 172875, 'still': 171240, 'interesting': 170497, 'nice': 166444, 'love': 164074, 'think': 163494, 'also': 160071, 'best': 147812, 'two': 144806, 'simple': 144798, 'm': 144094, 'make': 143748, 'many': 142388, 't': 141756, 'easy': 141405, 'even': 141282, 'dice': 138261}\n"
     ]
    }
   ],
   "source": [
    "\n",
    "top50 = {k: x[k] for k in list(x)[:50]}\n",
    "print(top50)"
   ]
  },
  {
   "cell_type": "markdown",
   "metadata": {},
   "source": [
    "\n",
    "<a id = \"train_test_split\"></a>"
   ]
  },
  {
   "cell_type": "markdown",
   "metadata": {},
   "source": [
    "## Split out Training Set and Test Set "
   ]
  },
  {
   "cell_type": "markdown",
   "metadata": {},
   "source": [
    "Splitting the dataset into training and testing sets is one of the main steps for building a machine learning model. The training data with the labels will use to train the model. Then the test data without the labels will be used to predict and so we can evaluate the model accuracy and identify how the model will generalize on unseen data. These steps also will assist us to check if the model is overfitting. \n",
    "\n",
    "Overfitting (model with high variance) means that the model is unable to generalize well for new samples (unseen data). This situation happens will the model has a high variance and it trained very well on the training set but it would perform poorly on the test set (the unseen data).\n",
    "\n",
    "Mathematically, it means the testing error is much higher than the training error. On the contrary, an underfitting (model with high bias) problem means that the model does not fit the new data well. This can be due to the low variance in the training set. "
   ]
  },
  {
   "cell_type": "markdown",
   "metadata": {},
   "source": [
    "Next we defined the input variable X (reviews) and the output variable y (Rating)."
   ]
  },
  {
   "cell_type": "code",
   "execution_count": 37,
   "metadata": {},
   "outputs": [],
   "source": [
    "X = joint_reviews_renking_detailed['comment'].sample(frac = 0.25) # this is less that 10% of the dataset \n",
    "y = joint_reviews_renking_detailed['rating'].astype(int).sample(frac = 0.25) # convert all float to a intger for classification "
   ]
  },
  {
   "cell_type": "markdown",
   "metadata": {},
   "source": [
    "\n",
    "\n",
    "Train_test_split is a sklearn method to split the dataset into training and testing sets, there are diverse ways to split the amount of data between both. Usually, it is not a good practice to use all the data for training purpose; we have to hide some data to be able to evaluate the model generalization. We can try a different value for example 70 training/30 testing or 80 training/20 testing and that will actually help to measure how the model behaves regards to data size. But generally more data means better performance. \n",
    "\n",
    "For this project, the amount of data is about 2637734 reviews x 104873 features. We might conduct a portion of the number of reviews, operate the model, and evaluate. In addition for more simplification we would take a sample from the dataset to train the model, and evalute the perfomavce of the baseline model based on different size of the data.\n"
   ]
  },
  {
   "cell_type": "code",
   "execution_count": 38,
   "metadata": {},
   "outputs": [],
   "source": [
    "# split dataset to train, test set \n",
    "X_train, X_test, y_train, y_test = train_test_split(X, y, test_size=0.3, random_state = 42)\n"
   ]
  },
  {
   "cell_type": "code",
   "execution_count": 39,
   "metadata": {},
   "outputs": [],
   "source": [
    "#encoder = preprocessing.LabelEncoder()\n",
    "#y_train = encoder.fit_transform(y_train)\n",
    "#y_test = encoder.fit_transform(y_test)"
   ]
  },
  {
   "cell_type": "markdown",
   "metadata": {},
   "source": [
    "\n",
    "<a id = \"CountVectorizer\"></a>"
   ]
  },
  {
   "cell_type": "markdown",
   "metadata": {},
   "source": [
    "# CountVectorizer"
   ]
  },
  {
   "cell_type": "markdown",
   "metadata": {},
   "source": [
    "Part of what we did on section [Text preprocessing](#Text_preprocessing)<a id = \"Text_preprocessing\"></a> simply can be done using built in SKlearn methods two of theme are: CountVectorizer and TfidfVectorizer. "
   ]
  },
  {
   "cell_type": "markdown",
   "metadata": {},
   "source": [
    "\n",
    "\n",
    "\n",
    "CountVectorizer convert our text documents to a matrix of token counts, every column represent a term, every row obtain a review and the cell is the term frequency count. As a parameter for this function, we sat the minimum occurrence of words to five and convert all terms to lowercase before tokenizing so for example 'TEXT' and 'text' counts as the same.\n",
    "Add more the parameter ngram_range=(1, 2) , this is means consider both unigrams and bigrams, count the occurrences of a single term as a minimum and count the maximum occurrences of two pairs of consecutive words for example 'good game', removed the stop words and punctuation. Finally, fitting the text will build a dictionary of features and then transforms review to feature vectors. [https://scikit-learn.org/stable/tutorial/text_analytics/working_with_text_data.html]\n",
    "\n",
    "\n"
   ]
  },
  {
   "cell_type": "code",
   "execution_count": 40,
   "metadata": {},
   "outputs": [],
   "source": [
    "# convert our text documents to a matrix of token counts\n",
    "vect = CountVectorizer(min_df=5,lowercase=True,ngram_range=(1, 2),\n",
    "                       stop_words=stopwords.words('english') + list(string.punctuation))                     \n",
    "X_train_0 = vect.fit_transform(X_train)   # fit and transfom train data\n",
    "X_test_0 = vect.transform(X_test)         # transfrom test data\n"
   ]
  },
  {
   "cell_type": "markdown",
   "metadata": {},
   "source": [
    "\n",
    "<a id = \"TfidfVectorizer\"></a>"
   ]
  },
  {
   "cell_type": "markdown",
   "metadata": {},
   "source": [
    "# TfidfVectorizer (Term Frequency times Inverse Document Frequency)"
   ]
  },
  {
   "cell_type": "markdown",
   "metadata": {},
   "source": [
    "\n",
    "\n",
    "Tfidf is able to overcome the problem of balancing between the short and the lengthy reviews in terms of the average count values, where they may have the same opinion but different average. Tfidf is a two-part function, Tf (Term frequency) is the normalization of the occurrence of each word in all reviews by the number of total words. Then idf (Inverse Document Frequency) means downscale the weights of such common words in the reviews, the reductoin will reflect the importance of the less common words across all the reviews as well. \n",
    "\n",
    "    TF(t) = (Number of times term t appears in a document) / (Total number of terms in the document)\n",
    "    \n",
    "    IDF(t) = log_e(Total number of documents / Number of documents with term t in it) [1](#1)\n",
    "\n",
    "\n",
    "The same parameter were passed in CountVectorizer is passed in the TfidfVectorizer, except for the max_df which means ignore terms that appear in more than 75% of the documents. These cut will also help us to speed the compuation time.[https://scikit-learn.org/stable/tutorial/text_analytics/working_with_text_data.html]\n",
    "\n"
   ]
  },
  {
   "cell_type": "code",
   "execution_count": 41,
   "metadata": {},
   "outputs": [],
   "source": [
    "# transform a count matrix to a normalized tf-idf representation (tf-idf transformer)\n",
    "\n",
    "tfidf = TfidfVectorizer(ngram_range=(1,2), min_df=5, max_df=0.75,\n",
    "                        smooth_idf=True, stop_words=stopwords.words('english') + list(string.punctuation))    \n",
    "             # smoothing by adding 1 (Laplac) min_df occure less than 5 , max_df=0.5 occure more than half \n",
    "\n",
    "X_train_1 = tfidf.fit_transform(X_train)\n",
    "\n",
    "X_test_1 = tfidf.transform(X_test)      "
   ]
  },
  {
   "cell_type": "code",
   "execution_count": 42,
   "metadata": {},
   "outputs": [
    {
     "data": {
      "text/plain": [
       "461603"
      ]
     },
     "execution_count": 42,
     "metadata": {},
     "output_type": "execute_result"
    }
   ],
   "source": [
    "X_train_1.shape[0]  # Number of featuers to train with"
   ]
  },
  {
   "cell_type": "code",
   "execution_count": 43,
   "metadata": {},
   "outputs": [],
   "source": [
    "#deduct inflected words to their word root,\n",
    "#def stemming_tokenizer(text):\n",
    "#    stemmer = PorterStemmer()\n",
    "#    return [stemmer.stem(w) for w in word_tokenize(text)]\n",
    "# "
   ]
  },
  {
   "cell_type": "markdown",
   "metadata": {},
   "source": [
    "\n",
    "<a id = \"Model_Selectoin\"></a>"
   ]
  },
  {
   "cell_type": "markdown",
   "metadata": {},
   "source": [
    "<h1 id=\"Model_Selectoin\" style='color:blue'>Model Selectoin</h1>"
   ]
  },
  {
   "cell_type": "markdown",
   "metadata": {},
   "source": [
    "\n",
    "\n",
    "To Begin with, we are consider this problem as a multinomial classification problem. Machine learning methods can divide as supervised, unsupervised, and reinforcement learning. The models we are implementing are supervised machine learning. Supervised machine learning can work for classification or regression problems. Classification is when the output is a categorical variable, regression for continuous output. \n",
    "\n",
    "In this section, we will try using different methods to be able to select which machine learning method is more promising for our problem. The selection is based on model accuracy.\n",
    "\n",
    "There are many machine learning methods some of them are recommendable for text classification applications so we have a variety of choices we will introduce and apply some of them in our approach to find the most promising model based on the model accuracy.\n",
    "\n",
    "After we processed the reviews (features vector) our data are ready to be fitted in the Machine learning algorithms to predict the rating. \n",
    "\n",
    "\n",
    "First of all, we started by building a classifiers/Regressor for:\n",
    "* [Logistic Regression](#Linear_and_Logistic_Regression) \n",
    "* [Support Vector Machine (LinearSVC)](#Support_Vector_Machine) \n",
    "* [Linear Support Vector Machine (SGDClassifier)](#Linear_Support_Vector_Machine)\n",
    "* [Naive Bayes Classifier (MultinomialNB)](#Naive_Bayes_Classifier)\n",
    "* [Decision Tree Classifier](#Decision_Tree_Classifier)\n",
    "* [Ensemble Model](#Ensemble_Model)\n",
    "    * [Bagging Models](#Bagging_Models)\n",
    "    * [Random Forest Classifier](#Random_Forest_Classifier) \n",
    "* [Convolutional Neural Network (CNN) (Futuer Work)](#Convolutional_Neural_Network)  \n",
    "\n",
    "\n",
    "\n",
    "The main terms here are: \n",
    "* Training: fit the model\n",
    "* Evaluation: calculat the model accuracy on the training dataset\n",
    "* Prediction: predict the outpu and evaluate the model on the testset\n",
    "\n",
    "The steps for this section is: fit the model, calculat the accuracy of the model on the train dataset, then evaluate the model on the testset. \n"
   ]
  },
  {
   "cell_type": "markdown",
   "metadata": {},
   "source": [
    "\n",
    "<a id =\"Linear_and_Logistic_Regression\"></a>"
   ]
  },
  {
   "cell_type": "markdown",
   "metadata": {},
   "source": [
    "## Linear and Logistic Regression:"
   ]
  },
  {
   "cell_type": "markdown",
   "metadata": {},
   "source": [
    "\n",
    "\n",
    "Logistic regression is a simple and powerful method for modelling and estimating the relationship between the input (independent) variable X (the predictor) and an output (dependent) variable Y (target/lable). It is commnly used as baseline model for any binary/multinomial/ordinal classification  problem. Linear regression output is continuous, while logistic regression output is discrete.\n",
    "\n",
    "The value of the paramters are defult , ‘lbfgs’ solvers support only L2 regularization and it is the defult kernel for the new version 0.22.[https://scikit-learn.org/stable/modules/generated/sklearn.linear_model.LogisticRegression.html] \n",
    "\n",
    "\n"
   ]
  },
  {
   "cell_type": "markdown",
   "metadata": {},
   "source": [
    "<a id =\"Linear_Classifiers\"></a>"
   ]
  },
  {
   "cell_type": "markdown",
   "metadata": {},
   "source": [
    "## Linear Classifiers"
   ]
  },
  {
   "cell_type": "markdown",
   "metadata": {},
   "source": [
    "\n",
    "\n",
    "Linear classifiers (SVM, logistic regression, a.o.) with SGD training.\n",
    "\n",
    "This method combines the regularized linear models with stochastic gradient descent (SGD) learning. This method usually works well with the sparse array. The sparse array is when the vector has many zeros where this case is shown in the bag of words model. This estimator fits a linear support vector machine (SVM).\n",
    "To understand what is regularized model we need to understand what is regularizer. \"Regularizer is a penalty added to the loss function that shrinks model parameters towards the zero vector using either the squared euclidean norm L2 or the absolute norm L1 or a combination of both (Elastic Net)\" [https://scikit-learn.org/stable/modules/generated/sklearn.linear_model.SGDClassifier.html#sklearn.linear_model.SGDClassifier].\n",
    "\n"
   ]
  },
  {
   "cell_type": "markdown",
   "metadata": {},
   "source": [
    "<a id = \"Support_Vector_Machine\"></a>"
   ]
  },
  {
   "cell_type": "markdown",
   "metadata": {},
   "source": [
    "## Support Vector Machine"
   ]
  },
  {
   "cell_type": "markdown",
   "metadata": {},
   "source": [
    "\n",
    "\n",
    "Support Vector Machine is considered as a simple and powerful algorithm. It produces significant accuracy with less computation power. It can be used for regression and classification problems. The algorithm defines a hyperplane in an N-dimensional space between the support vectors data point to classify the data point. The objective is to find a hyperplane that maximizes the margin between the data points from each class. \n",
    "\n",
    "It might not perform well for text classification because it is unable to handle missing data, where we are going to implement this method LinearSVC() it can handle sparse and multiclass data point by train each class against the rest. \n",
    "\n",
    "Regularization parameter. C=1.0 [https://scikit-learn.org/stable/modules/generated/sklearn.svm.SVC.html]"
   ]
  },
  {
   "cell_type": "markdown",
   "metadata": {},
   "source": [
    "<a id = \"Naive_Bayes_Classifier\"></a>"
   ]
  },
  {
   "cell_type": "markdown",
   "metadata": {},
   "source": [
    "## Naive Bayes Classifier"
   ]
  },
  {
   "cell_type": "markdown",
   "metadata": {},
   "source": [
    "Naive Bayes classifier is commonly used for the analysis of categorical data, specifically text data.\n",
    "Worked based on the Bayes' theorem probability for each class, it assumes the conditional independence between features. It calculates the conditional probability for each class to be able to predict. An example of the computation look is the following. \n",
    "P(y |x1,x2,...,xn) = P (x1|y) * P(x2|y) * ... * P(xn|y) * P(y) \n",
    "\n",
    "We are using MultinomialNB(), this method from SKlearn for multiclass. [https://scikit-learn.org/stable/modules/naive_bayes.html]"
   ]
  },
  {
   "cell_type": "markdown",
   "metadata": {},
   "source": [
    "\n",
    "<a id =\"Decision_Tree_Classifier\"></a>"
   ]
  },
  {
   "cell_type": "markdown",
   "metadata": {},
   "source": [
    "## Decision Tree Classifier "
   ]
  },
  {
   "cell_type": "markdown",
   "metadata": {},
   "source": [
    "\n",
    "The decision tree is one of the basic knowledge representations used in different machine learning applications. It is a divide-and-conquer algorithm that maps the input features of an item to predict the item’s target value. The tree can grow deeply to learn highly irregular patterns[https://www-users.cs.umn.edu/~kumar001/dmbook/ch4.pdf].\n",
    "Generally, there are three types of nodes for the whole tree: root node, inner root node and leaf node. The root node and inner node are both called decision nodes. They test selected samples (pairs of features and values) to split the tree. However, only the samples with a lower error are selected for the testing process and belong to the decision nodes. The leaf nodes contain an averaged numeric value or class as the final decision. This method stops when the tree reaches the maximum depth forced by the user. The disadvantage of this method are: its high variance may lead to an overfitting when applied to a full data set, also it does not perform will the missing data.\n",
    "\n"
   ]
  },
  {
   "cell_type": "markdown",
   "metadata": {},
   "source": [
    "\n",
    "<a id =\"Ensemble_Model\"></a>"
   ]
  },
  {
   "cell_type": "markdown",
   "metadata": {},
   "source": [
    "## Ensemble Learning "
   ]
  },
  {
   "cell_type": "markdown",
   "metadata": {},
   "source": [
    "\n",
    "\n",
    "The ensemble learning principle combines the strengths of several learning models such as a decision tree, support vector machine, polynomial regression and so on. The goal is to improve the prediction accuracy and overcome the problem of overfitting.\n",
    "The combination of different types of base models have two approaches. The combination can be based on heterogeneous models with different algorithms or homogeneous models with the same algorithm. At the end, the ensemble produces an averaging result from all trained base models. This method is powerful for a scenario when we do not know the suitable learning method to use[https://scikit-learn.org/stable/modules/ensemble.html].\n",
    "\n",
    "There are many ensemble methods, some the most common are the Bagging trees, the Boosting trees and random forest approaches. \n",
    "\n"
   ]
  },
  {
   "cell_type": "markdown",
   "metadata": {},
   "source": [
    "\n",
    "<a id =\"Boosting_Models\"></a>"
   ]
  },
  {
   "cell_type": "markdown",
   "metadata": {},
   "source": [
    "### Boosting Trees"
   ]
  },
  {
   "cell_type": "markdown",
   "metadata": {},
   "source": [
    "\n",
    "\n",
    "\n",
    "Boosting Trees.\n",
    "The boosting tree is a meta-estimator that combines all the prediction models to produce a strong predictor. It was originally designed for classification problems, but it can be extended to regression problems. It works by first creating weak learners. All successive learners are weighted according to their success and the outputs are aggregated by average (for regression) and vote (for classification) the final prediction.\n",
    "Two of popular boosting methods are the AdaBoost algorithm, introduced in 1995 by Freund and Schapire and Gradient Boosted Regression Trees (GBRT)[https://scikit-learn.org/stable/modules/ensemble.html].\n",
    "\n"
   ]
  },
  {
   "cell_type": "markdown",
   "metadata": {},
   "source": [
    "\n",
    "<a id =\"Random_Forest_Classifier\"></a>"
   ]
  },
  {
   "cell_type": "markdown",
   "metadata": {},
   "source": [
    "### Random Forest Classifier"
   ]
  },
  {
   "cell_type": "markdown",
   "metadata": {},
   "source": [
    "\n",
    "\n",
    "Is an ensemble of decision trees with controlled variables for better prediction. It is a combination of bagging and a random selection of features. The random subspace method creates a random subset of the feature space to train the algorithm and then combine the outputs for the final result. \n",
    "The random forest uses multiple random trees for the given set of inputs then averages the prediction result of all these trees to provide a good estimation. It gives an algorithm the ability to train each tree using a selected subset from the training data called in-bag-samples. The remaining training data set (out-of-bag) is used to estimate error and variable importance for an individual’s tree, as well as for the whole forest. This is known as the validation process. The two key parameters that control the forest are the number of trees or estimators and the depth of each tree. Random forest did not suffer from the overfitting problem. \n",
    "\n",
    "\n"
   ]
  },
  {
   "cell_type": "code",
   "execution_count": null,
   "metadata": {},
   "outputs": [
    {
     "name": "stdout",
     "output_type": "stream",
     "text": [
      "LogisticRegression(C=1.0, class_weight=None, dual=False, fit_intercept=True,\n",
      "                   intercept_scaling=1, l1_ratio=None, max_iter=1000,\n",
      "                   multi_class='auto', n_jobs=None, penalty='l2',\n",
      "                   random_state=None, solver='lbfgs', tol=0.0001, verbose=0,\n",
      "                   warm_start=False)\n"
     ]
    }
   ],
   "source": [
    "# X_train_0 apply CountVectorizer\n",
    "\n",
    "classifiers = [\n",
    "    linear_model.LogisticRegression(solver='lbfgs',multi_class='auto',max_iter=1000), # to handle the FutureWarning\n",
    "    svm.LinearSVC(),   \n",
    "    SGDClassifier(), #(loss='hinge', penalty='l2',alpha=1e-3, random_state=42,max_iter=1000, tol=None),\n",
    "    MultinomialNB(),\n",
    "    DecisionTreeClassifier(),\n",
    "    ensemble.AdaBoostClassifier(),\n",
    "    ensemble.RandomForestClassifier(n_estimators = 100)\n",
    "]\n",
    "\n",
    "\n",
    "\n",
    "for item in classifiers:\n",
    "    print(item)\n",
    "    model = item\n",
    "    model.fit(X_train_0, y_train)\n",
    "    \n",
    "    y_train_pred = model.predict(X_train_0)\n",
    "    print(\"training Score = \",model.score(X_train_0,y_train))   #training score\n",
    "    print(\"Train Mean Squer Error =  \", mean_squared_error(y_train_pred.astype(int), y_train))\n",
    "    \n",
    "    y_pred = model.predict(X_test_0)\n",
    "    print(\"test Score = \", accuracy_score(y_pred.astype(int), y_test))    #test score\n",
    "    print(\"Test Mean Squer Error =  \", mean_squared_error(y_pred.astype(int), y_test),\"\\n\")\n",
    "    \n",
    "    \n",
    "    \n",
    "    plt.figure(figsize=(10, 8))\n",
    "    sns.set(color_codes=\"True\")\n",
    "    sns.distplot(y_test.values[:15], color='b', label= 'Actual')   # its shows only the first 15 data point\n",
    "    sns.distplot(y_pred[:15], color='orange', label='Predicted')\n",
    "    plt.legend()\n",
    "    plt.show() \n",
    "    \n",
    "    \n",
    "    \n",
    "    \n",
    "    print(\"\\n---------------------------------------------------------------------------------\\n\\n\")\n",
    "    \n"
   ]
  },
  {
   "cell_type": "code",
   "execution_count": null,
   "metadata": {
    "scrolled": false
   },
   "outputs": [],
   "source": [
    "# X_train_1  apply TfidfVectorizer\n",
    "\n",
    "classifiers = [\n",
    "    linear_model.LogisticRegression(solver='lbfgs',multi_class='auto',max_iter=1000), # to handle the FutureWarning\n",
    "    svm.LinearSVC(),   \n",
    "    SGDClassifier(loss='hinge', penalty='l2',alpha=1e-3, random_state=42,max_iter=1000, tol=None),\n",
    "    MultinomialNB(),\n",
    "    DecisionTreeClassifier(),\n",
    "    ensemble.AdaBoostClassifier(),\n",
    "    ensemble.RandomForestClassifier(n_estimators = 100)\n",
    "]\n",
    "\n",
    "\n",
    "\n",
    "for item in classifiers:\n",
    "    print(item)\n",
    "    model = item\n",
    "    model.fit(X_train_1, y_train)\n",
    "    \n",
    "    y_train_pred = model.predict(X_train_1)\n",
    "    print(\"training Score = \",model.score(X_train_1,y_train))   #training score\n",
    "    print(\"Train Mean Squer Error =  \", mean_squared_error(y_train_pred.astype(int), y_train))\n",
    "    \n",
    "    y_pred = model.predict(X_test_1)\n",
    "    print(\"test Score = \", accuracy_score(y_pred.astype(int), y_test))    #test score\n",
    "    print(\"Test Mean Squer Error =  \", mean_squared_error(y_pred.astype(int), y_test), \"\\n\")\n",
    "    \n",
    "    \n",
    "    plt.figure(figsize=(10, 8))\n",
    "    sns.set(color_codes=\"True\")\n",
    "    sns.distplot(y_test.values[:15], color='b', label= 'Actual')\n",
    "    sns.distplot(y_pred[:15], color='orange', label='Predicted')\n",
    "    plt.legend()\n",
    "    plt.show() \n",
    "    \n",
    "    \n",
    "    \n",
    "    print(\"\\n---------------------------------------------------------------------------------\\n\\n\")\n"
   ]
  },
  {
   "cell_type": "markdown",
   "metadata": {},
   "source": [
    "Let's Have a closer look to to the numbers"
   ]
  },
  {
   "cell_type": "code",
   "execution_count": null,
   "metadata": {},
   "outputs": [],
   "source": [
    "print(\"y_test=\" ,y_test.values[:15] ,\"y_pred=\", y_pred[:15])"
   ]
  },
  {
   "cell_type": "markdown",
   "metadata": {},
   "source": [
    "Predict the first review as an example "
   ]
  },
  {
   "cell_type": "code",
   "execution_count": null,
   "metadata": {},
   "outputs": [],
   "source": [
    "print(joint_reviews_renking_detailed['comment'][0],\"Actual rating is\", joint_reviews_renking_detailed['rating'][0])"
   ]
  },
  {
   "cell_type": "code",
   "execution_count": null,
   "metadata": {
    "scrolled": true
   },
   "outputs": [],
   "source": [
    "\n",
    "# you can try diffrent text to perdict \n",
    "\n",
    "model = ensemble.RandomForestClassifier(n_estimators = 100)\n",
    "model.fit(X_train_1, y_train)\n",
    "y_pred = model.predict(X_test_1)    \n",
    "    \n",
    "y_pred1 = model.predict(tfidf.transform([\"Currently, this sits on my list as my favorite game\"]))\n",
    "print(\"test Score = \",y_pred1.astype(int))\n"
   ]
  },
  {
   "cell_type": "markdown",
   "metadata": {},
   "source": [
    "\n",
    "SGDClassifier, DecisionTreeClassifier and RandomForestClassifier are the methods had a good training score but a very poor test score. Therefore, we realize that our models is suffering from overfitting problem. \n",
    "\n",
    "To overcome the overfitting problem there are techniques we can try:\n",
    "* Cross-validation\n",
    "* Train model with more data\n",
    "* Remove features to reduce model complexity\n",
    "* Regularization, minimzes this loss function to balance between the error and model complexity.\n",
    "* Ensembles are machine learning methods for combining predictions from multiple separate models, this one we already included in our classifiers set.\n"
   ]
  },
  {
   "cell_type": "markdown",
   "metadata": {},
   "source": [
    "\n",
    "<a id = \"hyperparameter_Tuning\"></a>"
   ]
  },
  {
   "cell_type": "markdown",
   "metadata": {},
   "source": [
    "<h1 id=\"hyperparameter_Tuning\" style='color:blue'>hyperparameter Tuning and Model Optimization</h1>"
   ]
  },
  {
   "cell_type": "markdown",
   "metadata": {},
   "source": [
    "\n",
    "\n",
    "Since <i>Random Forest Classifier</i> was the best model performance in approach 1 with the training score equals to 90% and test score 36%; which is not good engouh, we will try to improve the model accuracy. In the following, we will introduce model evaluation measurements.\n",
    "\n",
    "\n",
    "Hyperparameter tuning is a model optimization technique that aims at setting the hyperparameter values for a learning method for the best performance. Examples of hyperparameters are the number of iterations or the number of decision trees or forest, as well as, the tree depth. One hyperparameter can on top of that be the learning rate which determines the contribution of each tree to a prediction.\n",
    "The process of finding the best value is called search space. Basically, this is a method to test all possible values and parameter combinations to set the best parameter values. The latter parameters are evaluated using the validation set after the model has been trained and tested. A <i>grid search</i> is example of this technique. Furthermore, it can work with the <i>K-fold cross validation</i>.\n",
    "Usually, when the model accuracy is too close to be random, it means something went wrong like the presence of useless features or of a hyperparameter that is not correctly tuned.\n",
    "\n",
    "More iomprantalty, the best hyperparameters are usually impossible to determine with one trial, at this stage the work turn to be human role.[https://www.kaggle.com/emanueleamcappella/random-forest-hyperparameters-tuning]   \n",
    "\n"
   ]
  },
  {
   "cell_type": "markdown",
   "metadata": {},
   "source": [
    "### Cross Validation "
   ]
  },
  {
   "cell_type": "markdown",
   "metadata": {},
   "source": [
    "Model validation procedure is to select from the candidate models based on their scores values. To chose the most successful model for further enhancement. On of the validation method is shuffle split cross validation, where it gave us a better score than the 10-fold. We set three as a number of the iteration to split and train the model. In addition, we used shuffle split cross validation with a search grid to tune the hyperprameter parameters. Within that we present the model feature importance. Finally, we plot the learning curve to check the model generalization.\n",
    "Next section we will disccuse the Parameter Tuning and  the Model accracy."
   ]
  },
  {
   "cell_type": "markdown",
   "metadata": {},
   "source": [
    "### Training Visualizations and Model Evaluation"
   ]
  },
  {
   "cell_type": "markdown",
   "metadata": {},
   "source": [
    "\n",
    "Continue with our best model <i>RandomForestClassifier</i>, we are going to look at the confusion matrix, and show the discrepancies between predicted and actual labels. The confusion matrix is a great way to see which categories model is mixing.\n"
   ]
  },
  {
   "cell_type": "code",
   "execution_count": null,
   "metadata": {},
   "outputs": [],
   "source": [
    "\n",
    "print(metrics.classification_report(y_test, y_pred))\n",
    "print(\"Confusion matrix \\n\", confusion_matrix( y_test, np.array(y_pred))) \n"
   ]
  },
  {
   "cell_type": "markdown",
   "metadata": {},
   "source": [
    "As we can see there are some labels are not mentioned 2,3,4,5 and 10. Non of these appaer in the prediaction result. Becuase, the model is not good enough, the data is imbalanced and the sample size we took is small. "
   ]
  },
  {
   "cell_type": "markdown",
   "metadata": {},
   "source": [
    "\n",
    "<a id =\"GridSearchCV\"></a>"
   ]
  },
  {
   "cell_type": "markdown",
   "metadata": {},
   "source": [
    "## Grid Search Cross Validation"
   ]
  },
  {
   "cell_type": "markdown",
   "metadata": {},
   "source": [
    "\n",
    "\n",
    "In this grid search I will try different combinations of RF hyperparameters. Most important hyperparameters of Random Forest:\n",
    "\n",
    "n_estimators = n of trees\n",
    "max_features = max number of features considered for splitting a node\n",
    "max_depth = max number of levels in each decision tree\n",
    "min_samples_split = min number of data points placed in a node before the node is split\n",
    "min_samples_leaf = min number of data points allowed in a leaf node\n",
    "bootstrap = method for sampling data points (with or without replacement)\n",
    "\n",
    "As for how I decided the numbers to try I simply followed the advice of Aurelion Geron (2017): 'When you have no idea what value a hyperparameter should have, a simple approach is to try out consecutive powers of 10 (or a smaller number if you want a more fine-grained search)' [].\n",
    "\n",
    "\n"
   ]
  },
  {
   "cell_type": "code",
   "execution_count": null,
   "metadata": {},
   "outputs": [],
   "source": [
    "\n",
    "# Parameter estimation using grid search with cross-validation\n",
    "\n",
    "X = joint_reviews_renking_detailed['comment'].sample(frac = 0.25)            # this is only  way less that 10% of the dataset \n",
    "y = joint_reviews_renking_detailed['rating'].astype(int).sample(frac = 0.25) # convert all float to a intger for classification \n",
    "#split for 20% test set, 80% train set\n",
    "X_train, X_test, y_train, y_test = train_test_split(X, y, test_size=0.2, random_state=42)\n",
    "\n",
    "tfidf = TfidfVectorizer(ngram_range=(1,2), min_df=5, max_df=0.75, smooth_idf=True, \n",
    "                    stop_words=stopwords.words('english') + list(string.punctuation))    \n",
    "                    \n",
    "X_trainT = tfidf.fit_transform(X_train)\n",
    "X_testT = tfidf.transform(X_test)  \n",
    "\n",
    "\n",
    "from sklearn.model_selection import GridSearchCV\n",
    "\n",
    "tuned_parameters = [\n",
    "{'n_estimators': [10, 25], 'max_features': [5, 10], \n",
    " 'max_depth': [10, 50, None], 'bootstrap': [True, False]}\n",
    "]\n",
    "\n",
    "    \n",
    "rf = GridSearchCV(RandomForestClassifier(), tuned_parameters, cv=10, scoring='neg_mean_squared_error')\n",
    "rf.fit(X_trainT, y_train)\n",
    "\n",
    "#best_estimator_ returns the best estimator chosen by the search\n",
    "#print(rf.best_estimator_)\n",
    "print()\n",
    "print(\"best_parameters\", rf.best_params_)\n",
    "\n",
    "means = rf.cv_results_['mean_test_score'][rf.best_index_]\n",
    "stds = rf.cv_results_['std_test_score'][rf.best_index_]\n",
    "#params = rf.cv_results_['params']\n",
    "#print(\"mean %0.3f (+/- std %0.03f)\" % (mean, std * 2))\n",
    "print()\n",
    "y_true, y_pred = y_test, rf.predict(X_testT)\n",
    "print(classification_report(y_true, y_pred.astype(int)))\n",
    "\n"
   ]
  },
  {
   "cell_type": "markdown",
   "metadata": {},
   "source": [
    "The accuracy is very low still, "
   ]
  },
  {
   "cell_type": "markdown",
   "metadata": {},
   "source": [
    "### Mean squared error (MSE )"
   ]
  },
  {
   "cell_type": "markdown",
   "metadata": {},
   "source": [
    "Mean squared error measures the average of the squared error between the actual and predicted value.\n",
    "The closer value to zero the more efficient estimator we have. The value of 2.95 indicates the distance between the actual rating and the predicted rating which still not good enough. \n"
   ]
  },
  {
   "cell_type": "code",
   "execution_count": null,
   "metadata": {},
   "outputs": [],
   "source": [
    "\n",
    "grid_best= rf.best_estimator_.predict(X_testT)\n",
    "MSE = np.square(np.subtract(y_test,y_pred)).mean()   # calculate Mean squared error\n",
    "print('The model error is', round(MSE, 2),'%')\n"
   ]
  },
  {
   "cell_type": "markdown",
   "metadata": {},
   "source": [
    "### Mean Absolute Percentage Error (MAPE)"
   ]
  },
  {
   "cell_type": "markdown",
   "metadata": {},
   "source": [
    "MAPE is another performance metric similar to MSE, but this one represents percentages."
   ]
  },
  {
   "cell_type": "code",
   "execution_count": null,
   "metadata": {},
   "outputs": [],
   "source": [
    "\n",
    "grid_best= rf.best_estimator_.predict(X_testT)\n",
    "errors = abs(grid_best - y_test)\n",
    "mape = np.mean(100 * (errors / y_test))\n",
    "accuracy = 100 - mape    \n",
    "print('The final accuracy of', round(accuracy, 2),'%')\n"
   ]
  },
  {
   "cell_type": "markdown",
   "metadata": {},
   "source": [
    "\n",
    "<a id =\"RandomizedSearchCV\"></a>"
   ]
  },
  {
   "cell_type": "markdown",
   "metadata": {},
   "source": [
    "## Randomized Search Cross Validation"
   ]
  },
  {
   "cell_type": "markdown",
   "metadata": {},
   "source": [
    "\n",
    "\n",
    "The grid search approach is often too costly, as many combinations are tested. In these cases it is easier to use a randomized search, that evaluates a only an user defined number of random combinations for each hyperparameter at every iteration. This way we could also test more hyperparameters. See this tutorial and this resource, with its notebook.\n",
    "\n"
   ]
  },
  {
   "cell_type": "code",
   "execution_count": null,
   "metadata": {},
   "outputs": [],
   "source": [
    "# Parameter estimation using Randomized Search with cross-validation\n",
    "\n",
    "\n",
    "X = joint_reviews_renking_detailed['comment'].sample(frac = 0.30)            # this is only  way less that 10% of the dataset \n",
    "y = joint_reviews_renking_detailed['rating'].astype(int).sample(frac = 0.30) # convert all float to a intger for classification \n",
    "#split for 20% test set, 80% train set\n",
    "\n",
    "X_train, X_test, y_train, y_test = train_test_split(X, y, test_size=0.2, random_state=42)\n",
    "\n",
    "tfidf = TfidfVectorizer(ngram_range=(1,2), min_df=5, max_df=0.75, smooth_idf=True, \n",
    "                    stop_words=stopwords.words('english') + list(string.punctuation))    \n",
    "                    \n",
    "X_trainTT = tfidf.fit_transform(X_train)\n",
    "X_testTT = tfidf.transform(X_test)  \n",
    "\n",
    "\n",
    "\n",
    "# Number of trees in random forest\n",
    "n_estimators = [int(x) for x in np.linspace(start = 20, stop = 200, num = 5)]\n",
    "# Number of features to consider at every split\n",
    "max_features = ['auto', 'sqrt']\n",
    "# Maximum number of levels in tree\n",
    "max_depth = [int(x) for x in np.linspace(1, 45, num = 3)]\n",
    "# Minimum number of samples required to split a node\n",
    "min_samples_split = [5, 10]\n",
    "\n",
    "# Create the random grid\n",
    "random_grid = {'n_estimators': n_estimators,\n",
    "               'max_features': max_features,\n",
    "               'max_depth': max_depth,\n",
    "               'min_samples_split': min_samples_split}\n",
    "\n",
    "\n",
    "\n",
    "rf_random = RandomizedSearchCV(estimator = RandomForestClassifier(), \n",
    "                               param_distributions = random_grid, n_iter = 10, cv = 10, \n",
    "                               verbose=2, random_state=42, n_jobs = -1, scoring='neg_mean_squared_error')\n",
    "# Fit the random search model\n",
    "rf_random.fit(X_trainTT, y_train)\n",
    "random_best= rf_random.predict(X_trainTT)\n",
    "\n",
    "\n",
    "# best random model \n",
    "print(rf_random.best_estimator_)\n",
    "\n",
    "# best combination of parameters of random search\n",
    "print(rf_random.best_params_)\n",
    "\n",
    "\n",
    "#this is the RMSE\n",
    "final_mse = mean_squared_error(y_train, random_best)\n",
    "final_rmse = np.sqrt(final_mse)\n",
    "print('The best model from the randomized search has a RMSE of', round(final_rmse, 2))\n",
    "\n",
    "\n",
    "\n",
    "    \n",
    "# Credits goes to     \n",
    "#https://scikit-learn.org/stable/auto_examples/model_selection/plot_grid_search_digits.html\n",
    "#https://www.kaggle.com/emanueleamcappella/random-forest-hyperparameters-tuning  "
   ]
  },
  {
   "cell_type": "code",
   "execution_count": null,
   "metadata": {},
   "outputs": [],
   "source": [
    "final_model = rf_random.best_estimator_\n",
    "# Predicting test set results\n",
    "final_pred = final_model.predict(X_testTT)\n",
    "final_mse = mean_squared_error(y_test, final_pred)\n",
    "final_rmse = np.sqrt(final_mse)\n",
    "print('The final RMSE on the test set is', round(final_rmse, 2))"
   ]
  },
  {
   "cell_type": "code",
   "execution_count": null,
   "metadata": {},
   "outputs": [],
   "source": [
    "#calculate accuracy\n",
    "errors = abs(final_pred - y_test)\n",
    "# Calculate mean absolute percentage error (MAPE)\n",
    "mape = np.mean(100 * (errors / y_test))\n",
    "# Calculate and display accuracy\n",
    "accuracy = 100 - mape    \n",
    "#print result\n",
    "print('The final model accuracy on the test set is', round(accuracy, 2),'%')"
   ]
  },
  {
   "cell_type": "markdown",
   "metadata": {},
   "source": [
    "<h1 id=\"Results\" style='color:blue'>Results and Futuer Work</h1>"
   ]
  },
  {
   "cell_type": "markdown",
   "metadata": {},
   "source": [
    "As a resut we we can say that a good text classifier is depends in many factors, the size of data we are using, the featuer enginnering and text cleaning and selecting an apporobpate machine learning method. \n",
    "\n",
    "We found that using TfidfVectorizer is more efficatve than using only CounterVectorizer. The most promsing machine learing methods in this project are : \n",
    "* LinearSVC ()\n",
    "* SGDClassifier()\n",
    "* DecisionTreeClassifier()\n",
    "* RandomForestClassifier()\n",
    "\n",
    "But as we can see from the number our model suffred from overfitting, where it had a poor testing score. \n",
    "Still there is a room for imporvment. \n",
    "\n",
    "Then we applied the Randomized Search Cross Validation optimxzation and the finall accuracy is 69.46% on the testset."
   ]
  },
  {
   "cell_type": "markdown",
   "metadata": {},
   "source": [
    "For the future work we would like to consider the following: \n",
    "* Implement Neural Network model \n",
    "* Use regression methods \n",
    "* Use the other features as a supplement with the text"
   ]
  },
  {
   "cell_type": "markdown",
   "metadata": {},
   "source": [
    "<h1 id=\"Challenges\" style='color:blue'>Challenges</h1>"
   ]
  },
  {
   "cell_type": "markdown",
   "metadata": {},
   "source": [
    "\n",
    "We experienced many challenges during this work, usually preparing the data time the most time, then working to improve the model accuracy and tuning the model parameters. The challenged we faced are:\n",
    "\n",
    "* The balance between the computational speed limitation we have and the amount of data to process\n",
    "* The Changed in version 0.20 from version 0.22\n",
    "* Understanding all the data columns and processing them in our way to determine the target variable and understand the problem better.\n",
    "* Determine if the problem is a classification or regression. \n",
    "* Selecting the model to fit the data and discover a suitable version for text classification. \n",
    "* Reduce the number of features to fit the model \n",
    "* Trying to improving the final accuracy cost too much time\n",
    "\n"
   ]
  },
  {
   "cell_type": "markdown",
   "metadata": {},
   "source": [
    "<h1 id=\"References\" style='color:blue'>References</h1>"
   ]
  },
  {
   "cell_type": "markdown",
   "metadata": {},
   "source": [
    "* https://www.kaggle.com/ngrq94/boardgamegeek-reviews-data-preparation\n",
    " \n",
    "* https://scikit-learn.org/stable/tutorial/text_analytics/working_with_text_data.html\n",
    " \n",
    "* https://medium.com/@galen.ballew/board-games-meet-machine-learning-34026870f8d5\n",
    " \n",
    "* https://towardsdatascience.com/multi-class-text-classification-model-comparison-and-selection-5eb066197568\n",
    "\n",
    "* https://towardsdatascience.com/columntransformer-meets-natural-language-processing-da1f116dd69f   \n",
    "\n",
    "* https://www.mooc-list.com/course/build-board-game-predictor-using-machine-learning-eduonix\n",
    " \n",
    "* https://monkeylearn.com/text-classification/\n",
    "\n",
    "* https://www.kaggle.com/emanueleamcappella/random-forest-hyperparameters-tuning\n",
    "\n",
    "* https://guneetkohli.github.io/machine-learning/board-game-reviews/#.XqK_ky-z1QI\n",
    "\n",
    "* https://docs.google.com/viewer?a=v&pid=sites&srcid=YWltcy5hYy50enxhaW1zLXRhbnphbmlhLWFyY2hpdmV8Z3g6YmI1ODkxYjEwOGQ4NGVi\n"
   ]
  }
 ],
 "metadata": {
  "kernelspec": {
   "display_name": "Python 3",
   "language": "python",
   "name": "python3"
  },
  "language_info": {
   "codemirror_mode": {
    "name": "ipython",
    "version": 3
   },
   "file_extension": ".py",
   "mimetype": "text/x-python",
   "name": "python",
   "nbconvert_exporter": "python",
   "pygments_lexer": "ipython3",
   "version": "3.7.4"
  }
 },
 "nbformat": 4,
 "nbformat_minor": 2
}
