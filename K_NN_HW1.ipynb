{
  "nbformat": 4,
  "nbformat_minor": 0,
  "metadata": {
    "colab": {
      "name": "K_NN. HW1",
      "provenance": [],
      "collapsed_sections": [],
      "authorship_tag": "ABX9TyN2yrwrLI4Tn94jKY4PNjXY",
      "include_colab_link": true
    },
    "kernelspec": {
      "name": "python3",
      "display_name": "Python 3"
    }
  },
  "cells": [
    {
      "cell_type": "markdown",
      "metadata": {
        "id": "view-in-github",
        "colab_type": "text"
      },
      "source": [
        "<a href=\"https://colab.research.google.com/github/AmnahAli/Data_Mining-/blob/master/K_NN_HW1.ipynb\" target=\"_parent\"><img src=\"https://colab.research.google.com/assets/colab-badge.svg\" alt=\"Open In Colab\"/></a>"
      ]
    },
    {
      "cell_type": "markdown",
      "metadata": {
        "id": "7PtvPkuS3MRM"
      },
      "source": [
        "**#  Assignment #1  :**\n",
        "\n",
        "  The goal of this assignment is to learn about the kNN.    Implementation of kNN Algorithm using Python."
      ]
    },
    {
      "cell_type": "code",
      "metadata": {
        "id": "xOcfD2Dk3EvB"
      },
      "source": [
        "import numpy as np\n",
        "import math\n",
        "import collections\n",
        "import matplotlib.pyplot as plt\n",
        "from collections import Counter\n",
        "import matplotlib.pyplot as plt\n",
        "from sklearn.utils import shuffle"
      ],
      "execution_count": null,
      "outputs": []
    },
    {
      "cell_type": "markdown",
      "metadata": {
        "id": "bprxvdTg-FfD"
      },
      "source": [
        "# **1**."
      ]
    },
    {
      "cell_type": "code",
      "metadata": {
        "id": "wDtcBQTv3nhR"
      },
      "source": [
        "# initialize the parameters to generate 2D Gaussian random samples\n",
        "mean0 = np.array([1,0])\n",
        "mean1 = np.array([0,1])\n",
        "sigma0= np.array([[1,0.75],[0.75,1]])       #cov1\n",
        "sigma1= np.array([[1,-0.5],[0.5,1]])        #cov2"
      ],
      "execution_count": null,
      "outputs": []
    },
    {
      "cell_type": "code",
      "metadata": {
        "id": "miWwkZJw3qOW"
      },
      "source": [
        "# generate the first training sample cluster with lables 0\n",
        "x0 = np.random.multivariate_normal(mean0, sigma0, size=200)\n",
        "y0= np.zeros(200).reshape((200, 1))\n",
        "trainset0 = np.append(x0, y0, axis=1)\n",
        "\n",
        "# generate the second training sample cluster with lables 0\n",
        "x1 = np.random.multivariate_normal(mean1, sigma1, size=200)\n",
        "y1= np.ones(200).reshape((200, 1))\n",
        "trainset1 = np.append(x1, y1, axis=1)\n",
        "\n",
        "train = np.append(trainset0, trainset1, 0)\n",
        "train = shuffle(train)\n",
        "#print(train[195:205,:])"
      ],
      "execution_count": null,
      "outputs": []
    },
    {
      "cell_type": "code",
      "metadata": {
        "id": "JMMbdshgizAw"
      },
      "source": [
        "x_train = train[:,:2]\n",
        "y_train = train[:,2]\n",
        "#len(trainset0[:50,2].tolist())"
      ],
      "execution_count": null,
      "outputs": []
    },
    {
      "cell_type": "code",
      "metadata": {
        "id": "XiuX_ZAq_4TH"
      },
      "source": [
        "# generate the first testing sample cluster with lables 0\n",
        "X0 = np.random.multivariate_normal(mean0, sigma0, size=50)\n",
        "Y0= np.zeros(50).reshape((50, 1))\n",
        "testset0 = np.append(X0, Y0, axis=1)\n",
        "\n",
        "# generate the second testing sample cluster with labels 1\n",
        "X1 = np.random.multivariate_normal(mean1, sigma1, size=50)\n",
        "Y1= np.ones(50).reshape((50, 1))\n",
        "testset1=np.append(X1, Y1, axis=1)\n",
        "\n",
        "test = np.append(testset0, testset1, 0)\n",
        "test = shuffle(test)\n",
        "#print(test[45:55,:])"
      ],
      "execution_count": null,
      "outputs": []
    },
    {
      "cell_type": "code",
      "metadata": {
        "id": "ggjFTF7JdAXu"
      },
      "source": [
        "x_test = test[:,:2]\n",
        "y_test = test[:,2]\n",
        "#len(trainset0[:50,2].tolist())"
      ],
      "execution_count": null,
      "outputs": []
    },
    {
      "cell_type": "code",
      "metadata": {
        "id": "8IvWOTVgwEiV",
        "outputId": "c5a37b94-6145-4b73-e4be-25514063e13c",
        "colab": {
          "base_uri": "https://localhost:8080/",
          "height": 265
        }
      },
      "source": [
        "ax = plt.gca()\n",
        "ax.scatter(x0[:,0], y0, color=\"b\" , marker=\"o\", label='train class 0')\n",
        "ax.scatter(x1[:,0], y1, color=\"y\" , marker=\"o\", label='train class 1')\n",
        "plt.legend(loc='upper right');\n",
        "plt.show()"
      ],
      "execution_count": null,
      "outputs": [
        {
          "output_type": "display_data",
          "data": {
            "image/png": "[encoded data removed]",
            "text/plain": [
              "<Figure size 432x288 with 1 Axes>"
            ]
          },
          "metadata": {
            "tags": [],
            "needs_background": "light"
          }
        }
      ]
    },
    {
      "cell_type": "code",
      "metadata": {
        "id": "eI45X5LXJvQ9"
      },
      "source": [
        "class myknnclassify:\n",
        "  def __init__(self,train, test, k):\n",
        "    self.x= train\n",
        "    self.y= test\n",
        "    self.k=k\n",
        "\n",
        "  def l2_norm(self, x, y):          \n",
        "    distance = 0.0\n",
        "    for i in range(len(x)):\n",
        "        distance += (x[i] - y[i])**2\n",
        "    return np.sqrt(distance)\n",
        "\n",
        "\n",
        "  def k_nn(self,train, test_sample, k):\n",
        "    distances = []\n",
        "    neighbors = []\n",
        "    for x in train:\n",
        "      distance = self.l2_norm(test_sample, x)\n",
        "      distances.append((x, distance))\n",
        "    distances.sort(key=lambda x: x[1])                     \n",
        "    for i in range(k):\n",
        "      neighbors.append(distances[i][0])\n",
        "    return neighbors\n",
        "\n",
        "\n",
        "  def predict_class(self,train, test_sample, k):\n",
        "    neighbors = self.k_nn(train, test_sample, k)\n",
        "    neighbors_votes = [i[-1] for i in neighbors]\n",
        "    vote = max(set(neighbors_votes), key=neighbors_votes.count)\n",
        "    return vote         \n",
        "\n",
        "\n",
        "  def predictAll(self, train, test, k):\n",
        "    predictions = []\n",
        "    for y in test:\n",
        "      output = self.predict_class(train, y, k)\n",
        "      predictions.append(output)\n",
        "    return predictions  \n",
        "\n",
        "\n",
        "  def accuracy(self, actual, predictions):\n",
        "    correct = 0\n",
        "    for i in range(len(actual)):\n",
        "      if actual[i][-1] == predictions[i]:\n",
        "        correct += 1\n",
        "    return correct / float(len(actual)) * 100.0    "
      ],
      "execution_count": null,
      "outputs": []
    },
    {
      "cell_type": "code",
      "metadata": {
        "id": "BnfTwF9sLNxa",
        "outputId": "319021d0-1e26-4ed6-c6c0-5c8fb6fecaa4",
        "colab": {
          "base_uri": "https://localhost:8080/",
          "height": 164
        }
      },
      "source": [
        "# Dummy data \n",
        "dataset = [[2.7810836,2.550537003,1],\n",
        "\t[1.465489372,2.362125076,0],\n",
        "\t[3.396561688,4.400293529,0],\n",
        "\t[1.38807019,1.850220317,0],\n",
        "\t[3.06407232,3.005305973,1],\n",
        "\t[7.627531214,2.759262235,0],\n",
        "\t[5.332441248,2.088626775,0],\n",
        "\t[6.922596716,1.77106367,1],\n",
        "\t[8.675418651,-0.242068655,0],\n",
        "\t[7.673756466,3.508563011,1]]\n",
        "\n",
        "dataset1 = [[-0.2840508,  -0.8855585],\n",
        " [ 0.84609114,  0.94227464],\n",
        " [ 0.28203422, -0.3234563],\n",
        " [-0.23012357,  2.06898195],\n",
        " [ 3.00304963,  1.97406139],\n",
        "\t[-0.73911572, -0.93004068],\n",
        " [-0.37804483, -1.51213788],\n",
        " [ 1.14752846 , 0.24181484],\n",
        " [ 2.54920662, 0.9561845],\n",
        " [ 0.99280785, -1.03087946]]\n",
        "\n",
        "dum = myknnclassify(dataset,dataset1,1)\n",
        "\n",
        "\n",
        "p= dum.k_nn(dataset, dataset1[0], 3)\n",
        "print(p)\n",
        "a = dum.predict_class(dataset, dataset1[0], 3)\n",
        "print(a)\n",
        "\n",
        "k = [1, 2, 3, 4, 5, 10]\n",
        "for i in range(len(k)): \n",
        "  predicted = dum.predictAll(dataset, dataset1, k[i])\n",
        "  acc =  dum.accuracy(dataset, predicted)\n",
        "  print(\"k=\",k[i],\"\\t\",\"\tAcurracy :\", str(acc) + \"%\", predicted)\n",
        "\n",
        "# for i in range(100):\n",
        "# \tneb = dum.k_nn(train, test[i], 3)\t\t  \n",
        "# \tprint(neb)\n",
        "\n",
        "v1=[]\n",
        "for i in range(100):\n",
        "\tv = dum.predict_class(train, test[i], 3)\n",
        "\tv1.append(v)\n",
        "\t#print(v)\n",
        "acc =  clf.accuracy(test, v1)\n",
        "print(acc)"
      ],
      "execution_count": null,
      "outputs": [
        {
          "output_type": "stream",
          "text": [
            "[[1.38807019, 1.850220317, 0], [1.465489372, 2.362125076, 0], [2.7810836, 2.550537003, 1]]\n",
            "0\n",
            "k= 1 \t \tAcurracy : 70.0% [0, 0, 0, 0, 1, 0, 0, 0, 0, 0]\n",
            "k= 2 \t \tAcurracy : 70.0% [0, 0, 0, 0, 1, 0, 0, 0, 0, 0]\n",
            "k= 3 \t \tAcurracy : 70.0% [0, 0, 0, 0, 1, 0, 0, 0, 0, 0]\n",
            "k= 4 \t \tAcurracy : 60.0% [0, 0, 0, 0, 0, 0, 0, 0, 0, 0]\n",
            "k= 5 \t \tAcurracy : 60.0% [0, 0, 0, 0, 0, 0, 0, 0, 0, 0]\n",
            "k= 10 \t \tAcurracy : 60.0% [0, 0, 0, 0, 0, 0, 0, 0, 0, 0]\n",
            "100.0\n"
          ],
          "name": "stdout"
        }
      ]
    },
    {
      "cell_type": "code",
      "metadata": {
        "id": "UuG3JlMfGA9a",
        "outputId": "1a5c2830-0b0e-410d-f505-1f83dbe7eaa6",
        "colab": {
          "base_uri": "https://localhost:8080/",
          "height": 131
        }
      },
      "source": [
        "clf = myknnclassify(x,y,1)\n",
        "\n",
        "k = [1, 2, 3, 4, 5, 10, 20]\n",
        "for i in range(len(k)): \n",
        "  predicted= clf.predictAll(train[:100], test, k[i])\n",
        "  acc =  clf.accuracy(dataset, predicted)\n",
        "  print(\"k=\",k[i],\"\\t\",\"\tAcurracy :\", str(acc) + \"%\")"
      ],
      "execution_count": null,
      "outputs": [
        {
          "output_type": "stream",
          "text": [
            "k= 1 \t \tAcurracy : 50.0%\n",
            "k= 2 \t \tAcurracy : 50.0%\n",
            "k= 3 \t \tAcurracy : 50.0%\n",
            "k= 4 \t \tAcurracy : 50.0%\n",
            "k= 5 \t \tAcurracy : 50.0%\n",
            "k= 10 \t \tAcurracy : 50.0%\n",
            "k= 20 \t \tAcurracy : 50.0%\n"
          ],
          "name": "stdout"
        }
      ]
    },
    {
      "cell_type": "code",
      "metadata": {
        "id": "lvh0rITtUuP2",
        "outputId": "bbf8cc62-bf77-49ef-b905-4450cd5ce044",
        "colab": {
          "base_uri": "https://localhost:8080/",
          "height": 131
        }
      },
      "source": [
        "clf = myknnclassify(train,test,1)\n",
        "predictions=[]\n",
        "k = [1, 2, 3, 4, 5, 10, 20]\n",
        "for i in range(len(k)): \n",
        "  for rec in range(len(test)):\n",
        "    predicted= clf.predict_class(train, test[rec], k[i])\n",
        "    predictions.append(predicted)\n",
        "  acc =  clf.accuracy(test, predictions)\n",
        "  print(\"k=\",k[i],\"\\t\",\"\tAcurracy :\", str(acc) + \"%\")"
      ],
      "execution_count": null,
      "outputs": [
        {
          "output_type": "stream",
          "text": [
            "k= 1 \t \tAcurracy : 100.0%\n",
            "k= 2 \t \tAcurracy : 100.0%\n",
            "k= 3 \t \tAcurracy : 100.0%\n",
            "k= 4 \t \tAcurracy : 100.0%\n",
            "k= 5 \t \tAcurracy : 100.0%\n",
            "k= 10 \t \tAcurracy : 100.0%\n",
            "k= 20 \t \tAcurracy : 100.0%\n"
          ],
          "name": "stdout"
        }
      ]
    },
    {
      "cell_type": "code",
      "metadata": {
        "id": "zM_FBn78l2D-",
        "outputId": "4323dc87-cc87-48fa-e395-120e5f71956c",
        "colab": {
          "base_uri": "https://localhost:8080/",
          "height": 131
        }
      },
      "source": [
        "clf = myknnclassify(train,test,1)\n",
        "predictions=[]\n",
        "k = [1, 2, 3, 4, 5, 10, 20]\n",
        "for i in range(len(k)): \n",
        "  for rec in range(len(test)):\n",
        "    predicted= clf.predict_class(train,  x_test[rec], k[i])\n",
        "    predictions.append(predicted)\n",
        "  acc =  clf.accuracy(test, predictions)\n",
        "  print(\"k=\",k[i],\"\\t\",\"\tAcurracy :\", str(acc) + \"%\")"
      ],
      "execution_count": null,
      "outputs": [
        {
          "output_type": "stream",
          "text": [
            "k= 1 \t \tAcurracy : 79.0%\n",
            "k= 2 \t \tAcurracy : 79.0%\n",
            "k= 3 \t \tAcurracy : 79.0%\n",
            "k= 4 \t \tAcurracy : 79.0%\n",
            "k= 5 \t \tAcurracy : 79.0%\n",
            "k= 10 \t \tAcurracy : 79.0%\n",
            "k= 20 \t \tAcurracy : 79.0%\n"
          ],
          "name": "stdout"
        }
      ]
    },
    {
      "cell_type": "markdown",
      "metadata": {
        "id": "VabNWUqn-Mzx"
      },
      "source": [
        "# **2.**"
      ]
    },
    {
      "cell_type": "code",
      "metadata": {
        "id": "jYgjlY45rgZI"
      },
      "source": [
        "# initialize the parameters to generate 2D Gaussian random samples\n",
        "mean = np.array([1,0])\n",
        "sigma= np.array([[1,0.75],[0.75,1]])       #cov"
      ],
      "execution_count": null,
      "outputs": []
    },
    {
      "cell_type": "code",
      "metadata": {
        "id": "00-e54bNrgLW"
      },
      "source": [
        "# generate the first training sample \n",
        "epsilon = np.random.normal(mean, 0.5, size=(300, 1))\n",
        "x = np.random.multivariate_normal(mean, sigma, size=300)\n",
        "y= np.sum(2*x[:,0] + x[:,1] +  epsilon, axis=0).reshape((300, 1))\n",
        "train = np.append(x, y, axis=1)"
      ],
      "execution_count": null,
      "outputs": []
    },
    {
      "cell_type": "code",
      "metadata": {
        "id": "M9y-d9xUrf5w",
        "outputId": "124c82cc-6142-45bd-c262-9c8d634cba95",
        "colab": {
          "base_uri": "https://localhost:8080/",
          "height": 181
        }
      },
      "source": [
        "train[:10]"
      ],
      "execution_count": null,
      "outputs": [
        {
          "output_type": "execute_result",
          "data": {
            "text/plain": [
              "array([[ 4.05141403e-01, -2.07511309e-01,  3.13866579e+02],\n",
              "       [-6.14952595e-01, -2.97101650e+00, -1.12724138e+03],\n",
              "       [ 1.33077361e+00,  1.76118132e+00,  1.45985369e+03],\n",
              "       [ 1.24540561e-01,  2.09175244e-01,  2.70512040e+02],\n",
              "       [ 1.39760148e+00,  3.81618860e-01,  1.08608167e+03],\n",
              "       [ 3.06329176e+00,  1.66653825e+00,  2.47097166e+03],\n",
              "       [ 4.84507461e-01, -5.62906673e-01,  2.54867605e+02],\n",
              "       [-7.94954994e-01, -1.90010928e+00, -9.13970651e+02],\n",
              "       [ 7.96163371e-01, -3.08395023e-01,  5.18214646e+02],\n",
              "       [ 2.56275657e-01,  2.00527893e-01,  3.46958892e+02]])"
            ]
          },
          "metadata": {
            "tags": []
          },
          "execution_count": 283
        }
      ]
    },
    {
      "cell_type": "code",
      "metadata": {
        "id": "ktd_w10tWabS"
      },
      "source": [
        "#Regression by taking mean from neighbors\n",
        "def getRegression(neighbors):\n",
        "\tneighbors_votes = [row[-1] for row in neighbors]\n",
        "\treturn sum(neighbors_votes) / float(len(neighbors_votes))\n",
        " "
      ],
      "execution_count": null,
      "outputs": []
    },
    {
      "cell_type": "code",
      "metadata": {
        "id": "UW2zK_UDWaZz"
      },
      "source": [
        ""
      ],
      "execution_count": null,
      "outputs": []
    },
    {
      "cell_type": "code",
      "metadata": {
        "id": "_tPSiprGWaUB"
      },
      "source": [
        ""
      ],
      "execution_count": null,
      "outputs": []
    },
    {
      "cell_type": "markdown",
      "metadata": {
        "id": "vAXO1rlQFGxc"
      },
      "source": [
        "**Refrenecs:**\n",
        "\n",
        "    * https://arxiv.org/pdf/1708.04321.pdf\n",
        "    * https://www.kaggle.com/ptdrowk-nearest-neighbors-classifier-from-scratchdata\n",
        "    * https://machinelearningmastery.com/tutorial-to-implement-k-nearest-neighbors-in-python-from-scratch/"
      ]
    },
    {
      "cell_type": "code",
      "metadata": {
        "id": "PuoevsUUniK_"
      },
      "source": [
        ""
      ],
      "execution_count": null,
      "outputs": []
    },
    {
      "cell_type": "code",
      "metadata": {
        "id": "XxKnNeH4niDg"
      },
      "source": [
        ""
      ],
      "execution_count": null,
      "outputs": []
    },
    {
      "cell_type": "code",
      "metadata": {
        "id": "P8LfSqG8niBx"
      },
      "source": [
        ""
      ],
      "execution_count": null,
      "outputs": []
    },
    {
      "cell_type": "code",
      "metadata": {
        "id": "gDL_wH3_nh_-"
      },
      "source": [
        ""
      ],
      "execution_count": null,
      "outputs": []
    },
    {
      "cell_type": "code",
      "metadata": {
        "id": "3qfrXUmEnh3u"
      },
      "source": [
        ""
      ],
      "execution_count": null,
      "outputs": []
    },
    {
      "cell_type": "code",
      "metadata": {
        "id": "qET16Sc2nhy8",
        "outputId": "2a86baaf-127f-4605-f122-5ae0cea6b751",
        "colab": {
          "base_uri": "https://localhost:8080/",
          "height": 131
        }
      },
      "source": [
        ""
      ],
      "execution_count": null,
      "outputs": [
        {
          "output_type": "stream",
          "text": [
            "k= 1 \t \tAcurracy : 79.0%\n",
            "k= 2 \t \tAcurracy : 79.0%\n",
            "k= 3 \t \tAcurracy : 79.0%\n",
            "k= 4 \t \tAcurracy : 79.0%\n",
            "k= 5 \t \tAcurracy : 79.0%\n",
            "k= 10 \t \tAcurracy : 79.0%\n",
            "k= 20 \t \tAcurracy : 79.0%\n"
          ],
          "name": "stdout"
        }
      ]
    }
  ]
}